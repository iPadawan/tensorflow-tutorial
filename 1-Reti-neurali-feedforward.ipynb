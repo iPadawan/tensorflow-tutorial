{
 "cells": [
  {
   "cell_type": "markdown",
   "metadata": {},
   "source": [
    "# Tutorial 1 - Reti neurali feedforward in TensorFlow"
   ]
  },
  {
   "cell_type": "markdown",
   "metadata": {},
   "source": [
    "**Prerequisiti per il tutorial:**\n",
    "* [T0 - Concetti base di TensorFlow](0-Concetti-base.ipynb)\n",
    "\n",
    "**Contenuti del tutorial:**\n",
    "1. Reti neurali feedforward.\n",
    "2. Implementazione di una rete neurale in TF.\n",
    "3. Introduzione al modulo <code>contrib.learn</code>."
   ]
  },
  {
   "cell_type": "markdown",
   "metadata": {},
   "source": [
    "## Concetti basi delle reti neurali"
   ]
  },
  {
   "cell_type": "markdown",
   "metadata": {},
   "source": [
    "Dopo aver introdotto i costrutti di base di TF nel primo tutorial, cominciamo ora a vedere come lavorare con le **reti neurali** con due semplici esempi di classificazione. Prima di passare all'implementazione, ricordiamo qualche elemento terminologico essenziale. Una rete neurale artificiale risolve un problema di apprendimento interponendo proiezioni lineari (come nell'esempio della regressione lineare) con funzioni nonlineari:"
   ]
  },
  {
   "cell_type": "markdown",
   "metadata": {},
   "source": [
    "![Esempio di una rete neurale](images/300px-Colored_neural_network.png) [**Wikipedia**]"
   ]
  },
  {
   "cell_type": "markdown",
   "metadata": {},
   "source": [
    "Ognuno dei nodi sopra viene detto **neurone**, mentre l'insieme di neuroni dello stesso colore uno **strato**. A causa della sua organizzazione, questo tipo di reti neurali viene detta **feedforward**. Per determinate scelte di funzioni nonlineari, essa rappresenta inoltre un [**approssimatore universale**](https://en.wikipedia.org/wiki/Universal_approximation_theorem), ovvero (informalmente) possiamo rappresentare qualsiasi funzione con un errore piccolo a piacere aumentando in maniera adeguata il numero di neuroni nello strato blu.\n",
    "\n",
    "Per calcolarne l'uscita, iniziamo calcolando il valore dei neuroni nello strato nascosto (in blu nella figura sopra), dato da:\n",
    "\n",
    "$$\\boldsymbol{h} = g\\left(\\boldsymbol{W}_1\\boldsymbol{x} + \\boldsymbol{b}_1\\right) \\,,$$\n",
    "\n",
    "dove la matrice $\\boldsymbol{W}_1$ ed il vettore $\\boldsymbol{b}_1$ vengono adattati durante l'apprendimento, e $g(\\cdot)$ rappresenta la funzione nonlineare applicata ad ogni elemento del vettore. Dall'uscita dello strato nascosto possiamo calcolare l'uscita della rete (in verde nella figura sopra) come:\n",
    "\n",
    "$$f(\\boldsymbol{x}) = h\\left(\\boldsymbol{W}_2\\boldsymbol{h} + \\boldsymbol{b}_2\\right) \\,,$$\n",
    "\n",
    "dove $\\boldsymbol{W}_2$ e $\\boldsymbol{b}_2$ sono nuovi parametri della rete, e la funzione $h(\\cdot)$ è un'altra funzione non-lineare. $g$ ed $h$ vengono dette **funzioni di attivazione**. \n",
    "\n",
    "Ovviamente, è immediato inserire più di uno strato nascosto all'interno della rete iterando le equazioni viste prima. Ogni nuovo strato aumenta la capacità espressiva della rete, aumentando similmente il numero di parametri e la quantità di calcoli da eseguire. Per la sua organizzazione, calcolare l'uscita della rete strato per strato viene detto **forward propagation**, mentre calcolare il gradiente di tutti i pesi della rete (partendo dall'uscita) viene detto **back-propagation**. Come detto in precedenza, l'aspetto essenziale di TF è che, una volta definita la rete neurale, la back-propagation viene eseguita in automatico tramite una procedura di differenziazione automatica. \n",
    "\n",
    "A livello pratico, una rete neurale si allena con tecniche di ottimizzazione praticamente identiche a quelle introdotte nel primo tutorial, come vedremo tra pochissimo."
   ]
  },
  {
   "cell_type": "markdown",
   "metadata": {},
   "source": [
    "## Un dataset di esempio"
   ]
  },
  {
   "cell_type": "markdown",
   "metadata": {},
   "source": [
    "Come esempio di classificazione binaria carichiamo il dataset delle *due lune* sfruttando una funzione di scikit-learn:"
   ]
  },
  {
   "cell_type": "code",
   "execution_count": 1,
   "metadata": {
    "collapsed": false
   },
   "outputs": [],
   "source": [
    "from sklearn import datasets\n",
    "(X, y) = datasets.make_moons(n_samples=1000)\n",
    "(X_tst, y_tst) = datasets.make_moons(n_samples=1000)"
   ]
  },
  {
   "cell_type": "markdown",
   "metadata": {},
   "source": [
    "Abbiamo quindi 1000 esempi per allenare la rete, e 1000 esempi di test per valutarne l'accuratezza. Poiché il dataset è in due sole dimensioni, possiamo visualizzarlo sul piano:"
   ]
  },
  {
   "cell_type": "code",
   "execution_count": 2,
   "metadata": {
    "collapsed": false
   },
   "outputs": [
    {
     "data": {
      "image/png": "[encoded data removed]",
      "text/plain": [
       "<matplotlib.figure.Figure at 0x8aaa128>"
      ]
     },
     "metadata": {},
     "output_type": "display_data"
    }
   ],
   "source": [
    "%matplotlib inline\n",
    "import matplotlib.pyplot as plt\n",
    "plt.figure()\n",
    "plt.plot(X[(y==0), 0], X[(y==0), 1], 'or')\n",
    "plt.plot(X[(y==1), 0], X[(y==1), 1], 'xb')\n",
    "plt.grid()"
   ]
  },
  {
   "cell_type": "markdown",
   "metadata": {},
   "source": [
    "Nonostante la sua semplicità, il dataset è impossibile da separare perfettamente con tecniche lineari. Andiamo quindi a costruire una rete neurale con uno strato nascosto per affrontare il problema."
   ]
  },
  {
   "cell_type": "markdown",
   "metadata": {},
   "source": [
    "## Costruire una rete neurale in TF"
   ]
  },
  {
   "cell_type": "markdown",
   "metadata": {},
   "source": [
    "Cominciamo riportando il nostro output desiderato come valore a virgola mobile invece di intero, per evitare problemi di compatibilità con le operazioni di TF:"
   ]
  },
  {
   "cell_type": "code",
   "execution_count": 3,
   "metadata": {
    "collapsed": false
   },
   "outputs": [],
   "source": [
    "import numpy as np\n",
    "y = y.astype(np.float32).reshape(-1, 1)"
   ]
  },
  {
   "cell_type": "markdown",
   "metadata": {},
   "source": [
    "Come nell'esempio di regressione lineare, il grafo computazionale inizia dalla definizione di due placeholder corrispondenti al nostro input ed output desiderato:"
   ]
  },
  {
   "cell_type": "code",
   "execution_count": 4,
   "metadata": {
    "collapsed": true
   },
   "outputs": [],
   "source": [
    "import tensorflow as tf\n",
    "X_tf = tf.placeholder(tf.float32, [None, 2])\n",
    "y_tf = tf.placeholder(tf.float32, [None, 1])"
   ]
  },
  {
   "cell_type": "markdown",
   "metadata": {},
   "source": [
    "Si noti come in questo caso andiamo a specificare in maniera esplicita le dimensioni delle matrici. Per rendere più realistico l'esempio, nel seguito processeremo il dataset in sotto-blocchi (detti **mini-batch**) di elementi. Per specificare a TF che questi sotto-blocchi potrebbero essere di dimensione variabile, usiamo 'None' come prima dimensione delle matrici."
   ]
  },
  {
   "cell_type": "markdown",
   "metadata": {
    "collapsed": true
   },
   "source": [
    "Definiamo quindi le variabili del nostro strato nascosto, dove per comodità useremo 4 neuroni:"
   ]
  },
  {
   "cell_type": "code",
   "execution_count": 5,
   "metadata": {
    "collapsed": false
   },
   "outputs": [],
   "source": [
    "W1 = tf.Variable(np.random.randn(2, 4)*0.01, dtype=tf.float32)\n",
    "b1 = tf.Variable(np.ones([4])*0.01, dtype=tf.float32)"
   ]
  },
  {
   "cell_type": "markdown",
   "metadata": {},
   "source": [
    "L'**inizializzazione** di queste variabili è un tema estremamente importante. Per reti relativamente piccole come questa, è comune inizializzare tutti i pesi a piccoli valori estratti da una distribuzione normale, come nel codice sopra. In reti più complesse, un'inizializzazione corretta può invece fare una differenza enorme in termini di velocità di apprendimento (come curiosità, a livello storico le prime applicazioni di deep learning sono derivate proprio da un nuovo modo di inizializzare i pesi anche per reti con molti strati nascosti).\n",
    "\n",
    "TF mette a disposizione alcune funzioni per inizializzare in modo più furbo i pesi, come la seguente:\n",
    "https://www.tensorflow.org/api_docs/python/tf/contrib/layers/xavier_initializer\n",
    "\n",
    "Il modulo <code>contrib</code>, contenente diverse funzioni di interesse come questa, viene introdotto nella prossima sezione."
   ]
  },
  {
   "cell_type": "markdown",
   "metadata": {},
   "source": [
    "Costruiamo quindi l'uscita del nostro strato nascosto:"
   ]
  },
  {
   "cell_type": "code",
   "execution_count": 6,
   "metadata": {
    "collapsed": false
   },
   "outputs": [],
   "source": [
    "h = tf.nn.tanh(tf.matmul(X_tf, W1) + b1)"
   ]
  },
  {
   "cell_type": "markdown",
   "metadata": {},
   "source": [
    "La funzione <code>matmul</code> (equivalente a <code>np.linalg.dot</code> in NumPy) esegue la moltiplicazione fra l'input e $\\boldsymbol{W}_1$, mentre abbiamo scelto una tangente iperbolica come funzione di attivazione, che ha la seguente forma:"
   ]
  },
  {
   "cell_type": "code",
   "execution_count": 7,
   "metadata": {
    "collapsed": false
   },
   "outputs": [
    {
     "data": {
      "image/png": "[encoded data removed]",
      "text/plain": [
       "<matplotlib.figure.Figure at 0xbbc3be0>"
      ]
     },
     "metadata": {},
     "output_type": "display_data"
    }
   ],
   "source": [
    "plt.figure()\n",
    "x_range = np.arange(-4, +4, 0.01)\n",
    "plt.plot(x_range, np.tanh(x_range))\n",
    "plt.grid()"
   ]
  },
  {
   "cell_type": "markdown",
   "metadata": {},
   "source": [
    "Come si può vedere, la funzione è approssimativamente lineare in un breve intervallo, per poi tendere asintoticamente a -1 o +1 al crescere del suo input. Un'altra funzione molto comune per le reti neurali è la cosiddetta **rectified linear unit** (o ReLU):"
   ]
  },
  {
   "cell_type": "code",
   "execution_count": 8,
   "metadata": {
    "collapsed": false
   },
   "outputs": [
    {
     "data": {
      "image/png": "[encoded data removed]",
      "text/plain": [
       "<matplotlib.figure.Figure at 0xabc4a58>"
      ]
     },
     "metadata": {},
     "output_type": "display_data"
    }
   ],
   "source": [
    "plt.figure()\n",
    "plt.plot(x_range, np.maximum(0.0, x_range))\n",
    "plt.grid()"
   ]
  },
  {
   "cell_type": "markdown",
   "metadata": {},
   "source": [
    "La ReLU ha un gradiente più semplice della tangente iperbolica (in particolare, i suoi valori possono essere solo 0 o 1). Essa introduce inoltre un punto di non-differenziabilità (in 0), ma a livello pratico questo non crea particolari problemi. La ReLU e molte altre varianti si possono trovare nel modulo <code>nn</code> di TF. Continuiamo la costruzione della nostra rete neurale definendo le variabili per lo strato di uscita:"
   ]
  },
  {
   "cell_type": "code",
   "execution_count": 9,
   "metadata": {
    "collapsed": true
   },
   "outputs": [],
   "source": [
    "w2 = tf.Variable(np.random.randn(4, 1)*0.01, dtype=tf.float32)\n",
    "b2 = tf.Variable([0.01], dtype=tf.float32)"
   ]
  },
  {
   "cell_type": "markdown",
   "metadata": {},
   "source": [
    "Essendo questo un problema di classificazione binaria, come funzione di attivazione in uscita si preferisce una funzione che permetta di ottenere valide probabilità di assegnazione alle classi, come la **sigmoide**:"
   ]
  },
  {
   "cell_type": "code",
   "execution_count": 10,
   "metadata": {
    "collapsed": false
   },
   "outputs": [],
   "source": [
    "f = tf.nn.sigmoid(tf.matmul(h, w2) + b2)"
   ]
  },
  {
   "cell_type": "markdown",
   "metadata": {
    "collapsed": true
   },
   "source": [
    "Una sigmoide è molto simile alla tangente iperbolica, ma il suo output è sempre limitato fra 0 ed 1:"
   ]
  },
  {
   "cell_type": "code",
   "execution_count": 11,
   "metadata": {
    "collapsed": false
   },
   "outputs": [
    {
     "data": {
      "image/png": "[encoded data removed]",
      "text/plain": [
       "<matplotlib.figure.Figure at 0xbcbe7f0>"
      ]
     },
     "metadata": {},
     "output_type": "display_data"
    }
   ],
   "source": [
    "plt.figure()\n",
    "plt.plot(x_range, 1.0/(1.0 + np.exp(-x_range)))\n",
    "plt.grid()"
   ]
  },
  {
   "cell_type": "markdown",
   "metadata": {},
   "source": [
    "In pratica, per definire i vari strati potremmo usare l'interfaccia funzionale definita in <code>layers</code> al posto di definire manualmente le operazioni:\n",
    "https://www.tensorflow.org/api_docs/python/tf/layers/dense\n",
    "\n",
    "Vedremo un esempio nel prossimo tutorial."
   ]
  },
  {
   "cell_type": "markdown",
   "metadata": {},
   "source": [
    "## Ottimizzazione della rete neurale"
   ]
  },
  {
   "cell_type": "markdown",
   "metadata": {},
   "source": [
    "Passiamo quindi alla definizione della funzione costo. Nel tutorial precedente abbiamo usato l'errore quadratico. Poiché in questo caso l'uscita dalla rete rappresenta delle probabilità, possiamo usare una funzione di errore più specifica a problemi di classificazione. \n",
    "\n",
    "In particolare, una funzione costo molto comune è la cosiddetta **cross-entropia**, definita come segue:\n",
    "\n",
    "$$- \\sum_{i=1}^N y_i\\log\\left(f(\\boldsymbol{x}_i)\\right) + (1-y_i)\\log\\left(1-f(\\boldsymbol{x}_i)\\right) \\,.$$\n",
    "\n",
    "Per un'introduzione visiva su come si possa derivare questa funzione costo, si rimanda al seguente post (in Inglese):\n",
    "[Visual Information Theory](https://colah.github.io/posts/2015-09-Visual-Information/)."
   ]
  },
  {
   "cell_type": "markdown",
   "metadata": {},
   "source": [
    "La sua implementazione in TF è immediata:"
   ]
  },
  {
   "cell_type": "code",
   "execution_count": 12,
   "metadata": {
    "collapsed": false
   },
   "outputs": [],
   "source": [
    "loss = - tf.reduce_sum(y_tf*tf.log(f) + (1.0-y_tf)*tf.log(1.0 - f))"
   ]
  },
  {
   "cell_type": "markdown",
   "metadata": {},
   "source": [
    "In realtà, questa implementazione diretta non è la più vantaggiosa da un punto di vista computazionale. La motivazione è l'interazione del logaritmo (nella definizione della funzione costo) con l'esponenziale presente nella sigmoide, che matematicamente si annullano a vicenda ma vengono entrambi calcolati da TF in questa implementazione. \n",
    "\n",
    "TF prevede esplicitamente questo caso, permettendo di definire la cross-entropia direttamente sull'output della rete neurale prima della funzione di attivazione, come segue:"
   ]
  },
  {
   "cell_type": "code",
   "execution_count": 13,
   "metadata": {
    "collapsed": true
   },
   "outputs": [],
   "source": [
    "# tf.nn.sigmoid_cross_entropy_with_logits(labels=y_tf, logits=tf.matmul(h, w2) + b2)"
   ]
  },
  {
   "cell_type": "markdown",
   "metadata": {},
   "source": [
    "Come detto prima, per simulare un caso realistico andiamo ad allenare la rete a partire da mini-batch di elementi di training, in modo da diminuire il costo di eseguire un singolo passo di discesa al gradiente. Per fare questo, definiamo una funzione per estrarre questi mini-batch dall'insieme di training:"
   ]
  },
  {
   "cell_type": "code",
   "execution_count": 14,
   "metadata": {
    "collapsed": true
   },
   "outputs": [],
   "source": [
    "def iterate_minibatches(X, y, batchsize):\n",
    "    indices = np.arange(len(X))\n",
    "    np.random.shuffle(indices)\n",
    "    for start_idx in range(0, len(X) - batchsize + 1, batchsize):\n",
    "        excerpt = indices[start_idx:start_idx + batchsize]\n",
    "        yield X[excerpt], y[excerpt]"
   ]
  },
  {
   "cell_type": "markdown",
   "metadata": {},
   "source": [
    "La funzione (adattata dal repository di [Lasagne](https://github.com/Lasagne/Lasagne/blob/master/examples/mnist.py)) permette di iterare sul training set ritornando gruppi di elementi di dimensione <code>batchsize</code>, il cui valore è a scelta dell'utente. Si noti come i dati vengono mescolati prima di ogni chiamata alla funzione."
   ]
  },
  {
   "cell_type": "markdown",
   "metadata": {},
   "source": [
    "Come algoritmo di ottimizzazione, usiamo qualcosa di più evoluto di una discesa al gradiente classica, ovvero una discesa al gradiente con **momentum** (*inerzia* in Italiano):"
   ]
  },
  {
   "cell_type": "code",
   "execution_count": 15,
   "metadata": {
    "collapsed": false
   },
   "outputs": [],
   "source": [
    "train_step = tf.train.MomentumOptimizer(learning_rate=0.01, momentum=0.9).minimize(loss)"
   ]
  },
  {
   "cell_type": "markdown",
   "metadata": {},
   "source": [
    "A differenza della discesa al gradiente classico, in questo caso il passo di discesa viene ottenuto combinando il passo standard con il passo all'istante precedente. Per un'introduzione, si vedano i grafici interattivi al seguente link:\n",
    "\n",
    "[Goh, \"Why Momentum Really Works\", Distill, 2017. http://doi.org/10.23915/distill.00006](http://distill.pub/2017/momentum/)"
   ]
  },
  {
   "cell_type": "markdown",
   "metadata": {},
   "source": [
    "Inoltre, a differenza dello scorso tutorial, per eseguire il grafo computazionale useremo una sessione interattiva. L'unica differenza con una sessione classica è che una sessione interattiva si registra automaticamente come sessione di default, permettendo in seguito di eseguire i comandi di TF senza specificare la sessione in uso:"
   ]
  },
  {
   "cell_type": "code",
   "execution_count": 16,
   "metadata": {
    "collapsed": true
   },
   "outputs": [],
   "source": [
    "sess = tf.InteractiveSession()"
   ]
  },
  {
   "cell_type": "markdown",
   "metadata": {},
   "source": [
    "Inizializziamo tutte le variabili del grafo:"
   ]
  },
  {
   "cell_type": "code",
   "execution_count": 17,
   "metadata": {
    "collapsed": true
   },
   "outputs": [],
   "source": [
    "tf.global_variables_initializer().run()"
   ]
  },
  {
   "cell_type": "markdown",
   "metadata": {},
   "source": [
    "Si noti come, con una sessione normale, avremmo dovuto passare la sessione stessa come parametro del metodo <code>run</code>. Definiamo quindi la dimensione dei nostri mini-batch, ed il numero di epoche (passaggi sul training set) per l'ottimizzazione:"
   ]
  },
  {
   "cell_type": "code",
   "execution_count": 18,
   "metadata": {
    "collapsed": false
   },
   "outputs": [],
   "source": [
    "epochs = 200\n",
    "batch_size = 10"
   ]
  },
  {
   "cell_type": "markdown",
   "metadata": {},
   "source": [
    "L'ottimizzazione è uguale al tutorial sulla regressione lineare, con la differenza che ad ogni iterazione eseguiamo un loop sui mini-batch estratti dal training set, ed usiamo quelli per l'ottimizzazione:"
   ]
  },
  {
   "cell_type": "code",
   "execution_count": 19,
   "metadata": {
    "collapsed": false
   },
   "outputs": [],
   "source": [
    "loss_history = np.zeros(epochs)\n",
    "for i in range(epochs):\n",
    "    loss_history[i] = sess.run(loss, feed_dict={X_tf: X, y_tf: y})\n",
    "    for xs, ys in iterate_minibatches(X, y, batch_size):\n",
    "        sess.run(train_step, feed_dict={X_tf: xs, y_tf: ys})"
   ]
  },
  {
   "cell_type": "markdown",
   "metadata": {},
   "source": [
    "Possiamo vedere l'evoluzione della funzione costo per assicurarci del buon comportamento dell'algoritmo di ottimizzazione:"
   ]
  },
  {
   "cell_type": "code",
   "execution_count": 20,
   "metadata": {
    "collapsed": false
   },
   "outputs": [
    {
     "data": {
      "image/png": "[encoded data removed]",
      "text/plain": [
       "<matplotlib.figure.Figure at 0xbc3fcc0>"
      ]
     },
     "metadata": {},
     "output_type": "display_data"
    }
   ],
   "source": [
    "plt.figure()\n",
    "plt.semilogy(loss_history)\n",
    "plt.xlabel('Iteration')\n",
    "plt.ylabel('Loss')\n",
    "plt.grid()"
   ]
  },
  {
   "cell_type": "markdown",
   "metadata": {},
   "source": [
    "Calcoliamo l'accuratezza del modello sui dati di test, ricordandoci di arrotondare le uscite (reali) della rete neurale per ottenere solamente $0$ od $1$:"
   ]
  },
  {
   "cell_type": "code",
   "execution_count": 21,
   "metadata": {
    "collapsed": false
   },
   "outputs": [
    {
     "name": "stdout",
     "output_type": "stream",
     "text": [
      "Final accuracy is:  1.0\n"
     ]
    }
   ],
   "source": [
    "from sklearn import metrics\n",
    "y_pred = np.round(sess.run(f, feed_dict={X_tf: X_tst}))\n",
    "print('Final accuracy is: ', metrics.accuracy_score(y_tst, y_pred))"
   ]
  },
  {
   "cell_type": "markdown",
   "metadata": {},
   "source": [
    "Essendo l'esempio molto semplice, la rete raggiunge un'accuratezza del 100% senza necessità di regolarizzazione. Per concludere questo esempio, andiamo a visualizzare la regione di decisione della rete neurale. Creiamo una griglia di punti equamente spaziati sul piano con risoluzione 0.1:"
   ]
  },
  {
   "cell_type": "code",
   "execution_count": 22,
   "metadata": {
    "collapsed": true
   },
   "outputs": [],
   "source": [
    "x_min, x_max = X[:, 0].min() - 1, X[:, 0].max() + 1\n",
    "y_min, y_max = X[:, 1].min() - 1, X[:, 1].max() + 1\n",
    "xx, yy = np.meshgrid(np.arange(x_min, x_max, 0.1),\n",
    "                     np.arange(y_min, y_max, 0.1))"
   ]
  },
  {
   "cell_type": "markdown",
   "metadata": {},
   "source": [
    "Calcoliamo l'uscita della rete neurale su tutti i punti della griglia:"
   ]
  },
  {
   "cell_type": "code",
   "execution_count": 23,
   "metadata": {
    "collapsed": false
   },
   "outputs": [],
   "source": [
    "Z = sess.run(f, feed_dict={X_tf:np.c_[xx.ravel(), yy.ravel()]}) "
   ]
  },
  {
   "cell_type": "markdown",
   "metadata": {},
   "source": [
    "Infine, visualizziamo la regione:"
   ]
  },
  {
   "cell_type": "code",
   "execution_count": 24,
   "metadata": {
    "collapsed": false
   },
   "outputs": [
    {
     "data": {
      "image/png": "[encoded data removed]",
      "text/plain": [
       "<matplotlib.figure.Figure at 0xbebc240>"
      ]
     },
     "metadata": {},
     "output_type": "display_data"
    }
   ],
   "source": [
    "# Put the result into a color plot\n",
    "Z = Z.reshape(xx.shape)\n",
    "plt.contourf(xx, yy, Z, cmap=plt.cm.Blues)\n",
    "plt.axis('off')\n",
    "\n",
    "# Plot also the training points\n",
    "plt.scatter(X[:, 0], X[:, 1], c=y, cmap=plt.cm.Paired)\n",
    "plt.show()"
   ]
  },
  {
   "cell_type": "markdown",
   "metadata": {},
   "source": [
    "## Allenare reti neurali con contrib.learn"
   ]
  },
  {
   "cell_type": "markdown",
   "metadata": {},
   "source": [
    "Come abbiamo visto, allenare reti neurali in TF è molto semplice, ma definirne la struttura e gestire i dati di training è più convoluto. A questo scopo, sono nate nel tempo numerose API ad alto livello che permettono di lavorare in TF in maniera più astratta e generale, permettendo rapidamente la prototipazione di una rete neurale. \n",
    "\n",
    "La più famosa di queste, [Keras](https://keras.io/), nasce al di fuori di TF prima di esserne inglobata nelle ultime versioni, e la introdurremo nel prossimo tutorial. Qui ci interessiamo ad un'alternativa, nata all'interno di TF nel modulo <code>contrib.learn</code>. Tutti i moduli all'interno di <code>contrib</code> rappresentano codice più sperimentale (ed in evoluzione), che nei prossimi mesi sarà spostato in modo definitivo nell'API stabile di TF oppure verrà modificato/abbandonato. Tra tutti i moduli presenti, <code>learn</code> rappresenta un'interfaccia ad alto livello per definire **stimatori** da usare in applicazioni di machine learning. Possiamo pensare a <code>contrib.learn</code> come all'equivalente di scikit-learn all'interno di TF."
   ]
  },
  {
   "cell_type": "markdown",
   "metadata": {},
   "source": [
    "Per questo tutorial, replichiamo l'esempio presente sulla documentazione ufficiale di TF:\n",
    "https://www.tensorflow.org/get_started/tflearn.\n",
    "\n",
    "Come dataset usiamo **Iris**, un dataset storico di classificazione, dove il compito è predire la classe di Iris (fra tre possibilità) a partire da quattro misure fisiche. Iniziamo scaricando il dataset di training dal seguente link:\n",
    "\n",
    "http://download.tensorflow.org/data/iris_training.csv"
   ]
  },
  {
   "cell_type": "markdown",
   "metadata": {},
   "source": [
    "Possiamo caricare il dataset con una funzione di contrib.learn come segue (ricordatevi di cambiare il percorso):"
   ]
  },
  {
   "cell_type": "code",
   "execution_count": 25,
   "metadata": {
    "collapsed": false
   },
   "outputs": [],
   "source": [
    "training_set = tf.contrib.learn.datasets.base.load_csv_with_header(\n",
    "      filename='../../../Downloads/iris_training.csv',\n",
    "      target_dtype=np.int,\n",
    "      features_dtype=np.float32)"
   ]
  },
  {
   "cell_type": "markdown",
   "metadata": {},
   "source": [
    "In contrib.learn è possibile associare a ciascuna feature un tipo ed un nome, potendo quindi mischiare feature reali, sparse, categoriche, e così via. Nel nostro caso, abbiamo solo 4 feature, tutte continue, a cui non associamo un nome: "
   ]
  },
  {
   "cell_type": "code",
   "execution_count": 26,
   "metadata": {
    "collapsed": false
   },
   "outputs": [],
   "source": [
    "# Sepal Length, Sepal Width, Petal Length and Petal Width\n",
    "feature_columns = [tf.contrib.layers.real_valued_column(\"\", dimension=4)]"
   ]
  },
  {
   "cell_type": "markdown",
   "metadata": {},
   "source": [
    "Andiamo quindi a creare una rete neurale con due strati nascosti, di 10 neuroni ciascuno:"
   ]
  },
  {
   "cell_type": "code",
   "execution_count": 27,
   "metadata": {
    "collapsed": false
   },
   "outputs": [
    {
     "name": "stdout",
     "output_type": "stream",
     "text": [
      "INFO:tensorflow:Using default config.\n",
      "INFO:tensorflow:Using config: {'_task_type': None, '_tf_config': gpu_options {\n",
      "  per_process_gpu_memory_fraction: 1\n",
      "}\n",
      ", '_keep_checkpoint_max': 5, '_save_checkpoints_steps': None, '_evaluation_master': '', '_save_summary_steps': 100, '_num_ps_replicas': 0, '_tf_random_seed': None, '_save_checkpoints_secs': 600, '_keep_checkpoint_every_n_hours': 10000, '_cluster_spec': <tensorflow.python.training.server_lib.ClusterSpec object at 0x000000000BE19EB8>, '_environment': 'local', '_master': '', '_is_chief': True, '_task_id': 0}\n"
     ]
    }
   ],
   "source": [
    "classifier_nn = tf.contrib.learn.DNNClassifier(feature_columns=feature_columns,\n",
    "                                              hidden_units=[10, 10],\n",
    "                                              n_classes=3,\n",
    "                                              model_dir=\"tmp/iris_model_nn/\")"
   ]
  },
  {
   "cell_type": "markdown",
   "metadata": {},
   "source": [
    "I modelli presenti in contrib.learn non si limitano a reti neurali, ma includono anche modelli lineari, SVM, algoritmi di clustering, e così via. Ad esempio, possiamo definire un classificatore lineare come segue:"
   ]
  },
  {
   "cell_type": "code",
   "execution_count": 28,
   "metadata": {
    "collapsed": false
   },
   "outputs": [
    {
     "name": "stdout",
     "output_type": "stream",
     "text": [
      "INFO:tensorflow:Using default config.\n",
      "INFO:tensorflow:Using config: {'_task_type': None, '_tf_config': gpu_options {\n",
      "  per_process_gpu_memory_fraction: 1\n",
      "}\n",
      ", '_keep_checkpoint_max': 5, '_save_checkpoints_steps': None, '_evaluation_master': '', '_save_summary_steps': 100, '_num_ps_replicas': 0, '_tf_random_seed': None, '_save_checkpoints_secs': 600, '_keep_checkpoint_every_n_hours': 10000, '_cluster_spec': <tensorflow.python.training.server_lib.ClusterSpec object at 0x000000000BDE5F28>, '_environment': 'local', '_master': '', '_is_chief': True, '_task_id': 0}\n"
     ]
    }
   ],
   "source": [
    "classifier_linear = tf.contrib.learn.LinearClassifier(feature_columns=feature_columns,\n",
    "                                              n_classes=3,\n",
    "                                              model_dir=\"tmp/iris_model_linear/\")"
   ]
  },
  {
   "cell_type": "markdown",
   "metadata": {},
   "source": [
    "Come si vede, il modulo è preconfigurato per mostrare numerose informazioni in output. Per non occludere il notebook, limitiamo la visualizzazione ai soli errori critici:"
   ]
  },
  {
   "cell_type": "code",
   "execution_count": 29,
   "metadata": {
    "collapsed": true
   },
   "outputs": [],
   "source": [
    "tf.logging.set_verbosity(tf.logging.FATAL)"
   ]
  },
  {
   "cell_type": "markdown",
   "metadata": {},
   "source": [
    "Il training di uno stimatore in contrib.learn avviene definendo una funzione di input che si occupi di caricare i dati, preprocessarli, e così via. I dati in output devono essere costanti di TF, come nella funzione che segue:"
   ]
  },
  {
   "cell_type": "code",
   "execution_count": 30,
   "metadata": {
    "collapsed": false
   },
   "outputs": [],
   "source": [
    "def get_train_inputs():\n",
    "    x = tf.constant(training_set.data)\n",
    "    y = tf.constant(training_set.target)\n",
    "\n",
    "    return x, y"
   ]
  },
  {
   "cell_type": "markdown",
   "metadata": {},
   "source": [
    "Nel caso in cui le feature non siano tutte continue, l'input restituito dalla funzione sarà un dizionario che associa, a ciascuna feature, la colonna corrispondente del tipo adeguato. Per allenare i classificatori il modulo mette a disposizione una funzione <code>fit</code>, come in scikit-learn:"
   ]
  },
  {
   "cell_type": "code",
   "execution_count": 31,
   "metadata": {
    "collapsed": false
   },
   "outputs": [
    {
     "data": {
      "text/plain": [
       "DNNClassifier(params={'head': <tensorflow.contrib.learn.python.learn.estimators.head._MultiClassHead object at 0x000000000BDF3898>, 'activation_fn': <function relu at 0x000000000A5617B8>, 'input_layer_min_slice_size': None, 'feature_columns': (_RealValuedColumn(column_name='', dimension=4, default_value=None, dtype=tf.float32, normalizer=None),), 'optimizer': None, 'hidden_units': [10, 10], 'gradient_clip_norm': None, 'embedding_lr_multipliers': None, 'dropout': None})"
      ]
     },
     "execution_count": 31,
     "metadata": {},
     "output_type": "execute_result"
    }
   ],
   "source": [
    "# Allenamento del modello\n",
    "classifier_nn.fit(input_fn=get_train_inputs, steps=1000)"
   ]
  },
  {
   "cell_type": "markdown",
   "metadata": {},
   "source": [
    "Per testare i modelli, scarichiamo il dataset di test dal seguente link:\n",
    "\n",
    "http://download.tensorflow.org/data/iris_test.csv\n",
    "\n",
    "Possiamo quindi caricarlo come prima:"
   ]
  },
  {
   "cell_type": "code",
   "execution_count": 32,
   "metadata": {
    "collapsed": true
   },
   "outputs": [],
   "source": [
    "test_set = tf.contrib.learn.datasets.base.load_csv_with_header(\n",
    "      filename='../../../Downloads/iris_test.csv',\n",
    "      target_dtype=np.int,\n",
    "      features_dtype=np.float32)"
   ]
  },
  {
   "cell_type": "markdown",
   "metadata": {},
   "source": [
    "Definiamo una funzione per caricare i dati di test:"
   ]
  },
  {
   "cell_type": "code",
   "execution_count": 33,
   "metadata": {
    "collapsed": true
   },
   "outputs": [],
   "source": [
    "def get_test_inputs():\n",
    "    x = tf.constant(test_set.data)\n",
    "    y = tf.constant(test_set.target)\n",
    "\n",
    "    return x, y"
   ]
  },
  {
   "cell_type": "markdown",
   "metadata": {},
   "source": [
    "Infine, sfruttiamo le funzioni messe a disposizione da contrib.learn per valuturare i modelli:"
   ]
  },
  {
   "cell_type": "code",
   "execution_count": 34,
   "metadata": {
    "collapsed": false
   },
   "outputs": [
    {
     "name": "stdout",
     "output_type": "stream",
     "text": [
      "\n",
      "Test Accuracy: 0.966667\n"
     ]
    }
   ],
   "source": [
    "# Evaluate accuracy\n",
    "accuracy_score_nn = classifier_nn.evaluate(input_fn=get_test_inputs,\n",
    "                                     steps=1)[\"accuracy\"]\n",
    "\n",
    "print(\"\\nTest Accuracy: {0:f}\".format(accuracy_score_nn))"
   ]
  },
  {
   "cell_type": "markdown",
   "metadata": {},
   "source": [
    "contrib.learn è, ovviamente, molto più complesso di quanto visto in questo tutorial, permettendo il training in parallelo a partire da grandi moli di dati, operazioni di checkpoint sui modelli, e così via. Vedremo alcune di queste funzionalità più avanzate in un tutorial più avanti. Per ora, continuiamo la nostra esplorazione di TF introducendo altri tipi di reti neurali, più adatte a processare immagini (**reti convolutive**) o sequenze (**reti ricorrenti**)."
   ]
  }
 ],
 "metadata": {
  "anaconda-cloud": {},
  "kernelspec": {
   "display_name": "Python 3",
   "language": "python",
   "name": "python3"
  },
  "language_info": {
   "codemirror_mode": {
    "name": "ipython",
    "version": 3
   },
   "file_extension": ".py",
   "mimetype": "text/x-python",
   "name": "python",
   "nbconvert_exporter": "python",
   "pygments_lexer": "ipython3",
   "version": "3.5.2"
  }
 },
 "nbformat": 4,
 "nbformat_minor": 1
}
