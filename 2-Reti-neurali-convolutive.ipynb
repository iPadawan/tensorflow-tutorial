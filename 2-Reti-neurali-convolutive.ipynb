{
 "cells": [
  {
   "cell_type": "markdown",
   "metadata": {},
   "source": [
    "# Tutorial 2 - Reti neurali convolutive in TF"
   ]
  },
  {
   "cell_type": "markdown",
   "metadata": {},
   "source": [
    "**Prerequisiti per il tutorial:**\n",
    "* [T1 - Reti neurali feedforward](1-Reti-neurali-feedforward.ipynb)\n",
    "\n",
    "**Contenuti del tutorial:**\n",
    "1. Concetti base delle reti neurali convolutive.\n",
    "2. Implementazione di una rete neurale convolutiva in TF."
   ]
  },
  {
   "cell_type": "markdown",
   "metadata": {},
   "source": [
    "## Introduzione alle reti convolutive"
   ]
  },
  {
   "cell_type": "markdown",
   "metadata": {},
   "source": [
    "L'enorme flessibilità delle reti neurali è allo stesso tempo il loro punto di forza ed il loro svantaggio. Consideriamo un problema dove l'input alla rete neurale è un'immagine di 64x64 pixel, in RGB, ad esempio una piccola telecamera che deve imparare a riconoscere la presenza o meno di una determinata persona. Nonostante si tratti di un'immagine molto piccola, in tutto avremmo già 64x64x3 = **12228 input** alla rete neurale, considerando che ciascun pixel è descritto da tre colori diversi. Con soli 10 neuroni nel primo strato nascosto, avremmo oltre **120mila parametri** liberi da adattare per riconoscere un qualche oggetto nell'immagine.\n",
    "\n",
    "Le **reti neurali convolutive** (convolutional neural network, CNN) sono un modo di risolvere questo problema quando, come nel caso delle immagini, l'input alla rete neurale presenta una forma di *località* dell'informazione. In questo caso, ciascun neurone nello strato nascosto viene sostituito da un filtro di dimensioni fisse (es., 5x5x3), che viene fatto scorrere sull'intera immagine per ottenere la sua uscita:"
   ]
  },
  {
   "cell_type": "markdown",
   "metadata": {},
   "source": [
    "![Esempio di filtro convolutivo](./images/Convolution_schematic.gif)\n",
    "http://www.wildml.com/2015/11/understanding-convolutional-neural-networks-for-nlp/"
   ]
  },
  {
   "cell_type": "markdown",
   "metadata": {},
   "source": [
    "Uno **strato convolutivo** si ottiene facendo scorrere in parallelo diversi filtri di questo tipo sull'immagine, a cui viene fatta seguire una nonlinearità come in una rete neurale tradizionale. \n",
    "\n",
    "Considerando di nuovo il caso dell'immagine di prima, con 10 filtri di questo tipo si otterrebbero 5x5x3x10 = **750 parametri adattabili**, una riduzione di oltre 100 volte. Questa architettura è enormemente popolare per le immagini, ed ha trovato applicazioni di recente anche per l'[audio](https://deepmind.com/blog/wavenet-generative-model-raw-audio/) e problemi di [processamento del linguaggio](http://www.wildml.com/2015/11/understanding-convolutional-neural-networks-for-nlp/); entrambi situazioni dove le convoluzioni, a differenza che nella figura sopra, sono mono-dimensionali.\n",
    "\n",
    "In pratica, una CNN si costruisce interponendo a questi strati convolutivi altri strati, come nella figura sotto:"
   ]
  },
  {
   "cell_type": "markdown",
   "metadata": {},
   "source": [
    "![Esempio di rete convolutiva](https://d3kbpzbmcynnmx.cloudfront.net/wp-content/uploads/2015/11/Screen-Shot-2015-11-07-at-7.26.20-AM.png)\n",
    "http://www.wildml.com/2015/11/understanding-convolutional-neural-networks-for-nlp/"
   ]
  },
  {
   "cell_type": "markdown",
   "metadata": {},
   "source": [
    "Gli strati di **pooling** servono ad effettuare un sottocampionamento dell'uscita dello strato precedente, ad esempio prendendo il massimo valore in delle regioni 2x2 o 3x3. Nella parte finale della rete, vengono tipicamente aggiunti strati interamente connessi (come nelle reti neurali standard), prima di procedere alla classificazione. Questi sono solo gli elementi di base delle reti convolutive; vedremo alcuni concetti più avanzati, necessari a costruire reti con numerosi strati nascosti, in un prossimo tutorial.\n",
    "\n",
    "Va notato da subito come, nel caso delle CNN, l'attivazione di un singolo strato è ora descritta da un tensore a *quattro* dimensioni, in quanto l'uscita di ciascun filtro è a sua volta bidimensionale."
   ]
  },
  {
   "cell_type": "markdown",
   "metadata": {},
   "source": [
    "## Esempio di classificazione su immagini"
   ]
  },
  {
   "cell_type": "markdown",
   "metadata": {},
   "source": [
    "Come esempio di problema di classificazione di immagini, utilizziamo il dataset [**Labeled faces in the wild**](http://vis-www.cs.umass.edu/lfw/), una collezione annotata di immagini di numerose celebrità.\n",
    "\n",
    "\n",
    "<code>scikit-learn</code> mette a disposizione una funzione per scaricare il dataset, oltre 200 MB di dati in questa versione:"
   ]
  },
  {
   "cell_type": "code",
   "execution_count": 1,
   "metadata": {
    "collapsed": false
   },
   "outputs": [],
   "source": [
    "from sklearn.datasets import fetch_lfw_people\n",
    "lfw_people = fetch_lfw_people(min_faces_per_person=70, resize=0.4)"
   ]
  },
  {
   "cell_type": "markdown",
   "metadata": {},
   "source": [
    "Nell'esempio prima, abbiamo scelto di scaricare solo le immagini di persone di cui abbiamo (almeno) 70 esempi, le quali sono soltanto 6:"
   ]
  },
  {
   "cell_type": "code",
   "execution_count": 2,
   "metadata": {
    "collapsed": false
   },
   "outputs": [
    {
     "data": {
      "text/plain": [
       "array(['Ariel Sharon', 'Colin Powell', 'Donald Rumsfeld', 'George W Bush',\n",
       "       'Gerhard Schroeder', 'Hugo Chavez', 'Tony Blair'], \n",
       "      dtype='<U17')"
      ]
     },
     "execution_count": 2,
     "metadata": {},
     "output_type": "execute_result"
    }
   ],
   "source": [
    "lfw_people.target_names"
   ]
  },
  {
   "cell_type": "markdown",
   "metadata": {},
   "source": [
    "Per semplicità, consideriamo qui un problema di classificazione binaria per distinguire fra le foto di Colin Powell (236 foto) e le foto di Tony Blair (144 foto):"
   ]
  },
  {
   "cell_type": "code",
   "execution_count": 3,
   "metadata": {
    "collapsed": false
   },
   "outputs": [],
   "source": [
    "idx = (lfw_people.target == 1) | (lfw_people.target == 6)\n",
    "X = lfw_people.images[idx]\n",
    "y = lfw_people.target[idx]"
   ]
  },
  {
   "cell_type": "markdown",
   "metadata": {},
   "source": [
    "Sistemiamo il vettore di target in modo che contenga solo 0 od 1:"
   ]
  },
  {
   "cell_type": "code",
   "execution_count": 4,
   "metadata": {
    "collapsed": false
   },
   "outputs": [],
   "source": [
    "y[y == 6] = 0\n",
    "y = y.reshape(-1, 1)"
   ]
  },
  {
   "cell_type": "markdown",
   "metadata": {},
   "source": [
    "Per comodità di TF, aggiungiamo una dimensione alla matrice di immagini, che rappresenta il singolo canale:"
   ]
  },
  {
   "cell_type": "code",
   "execution_count": 5,
   "metadata": {
    "collapsed": true
   },
   "outputs": [],
   "source": [
    "X = X.reshape(X.shape[0], X.shape[1], X.shape[2], 1)"
   ]
  },
  {
   "cell_type": "markdown",
   "metadata": {},
   "source": [
    "Aggiungendo un parametro <code>color=True</code> alla funzione <code>fetch_lfw_people</code> potremmo scaricare i tre canali RGB invece di un singolo canale in scala di grigi. Di tutte le immagini teniamo da parte un 20% per andare a testare la nostra rete neurale:"
   ]
  },
  {
   "cell_type": "code",
   "execution_count": 6,
   "metadata": {
    "collapsed": true
   },
   "outputs": [],
   "source": [
    "from sklearn import model_selection\n",
    "(X_trn, X_tst, y_trn, y_tst) = model_selection.train_test_split(X, y, test_size=0.20)"
   ]
  },
  {
   "cell_type": "markdown",
   "metadata": {},
   "source": [
    "Vediamo un esempio di immagine di training:"
   ]
  },
  {
   "cell_type": "code",
   "execution_count": 7,
   "metadata": {
    "collapsed": false
   },
   "outputs": [
    {
     "data": {
      "text/plain": [
       "<matplotlib.image.AxesImage at 0xaa37c88>"
      ]
     },
     "execution_count": 7,
     "metadata": {},
     "output_type": "execute_result"
    },
    {
     "data": {
      "image/png": "[encoded data removed]",
      "text/plain": [
       "<matplotlib.figure.Figure at 0xa967ba8>"
      ]
     },
     "metadata": {},
     "output_type": "display_data"
    }
   ],
   "source": [
    "%matplotlib inline\n",
    "import matplotlib.pyplot as plt\n",
    "plt.imshow(X[1,:,:, 0], cmap='gray')"
   ]
  },
  {
   "cell_type": "markdown",
   "metadata": {},
   "source": [
    "Come si può vedere, ciascuna immagine è 50x37, in bianco e nero:"
   ]
  },
  {
   "cell_type": "code",
   "execution_count": 8,
   "metadata": {
    "collapsed": false
   },
   "outputs": [
    {
     "data": {
      "text/plain": [
       "(50, 37, 1)"
      ]
     },
     "execution_count": 8,
     "metadata": {},
     "output_type": "execute_result"
    }
   ],
   "source": [
    "X[0].shape"
   ]
  },
  {
   "cell_type": "markdown",
   "metadata": {},
   "source": [
    "Per finire, rappresentiamo i pixel in [0,1], invece che in [0, 255]:"
   ]
  },
  {
   "cell_type": "code",
   "execution_count": 9,
   "metadata": {
    "collapsed": true
   },
   "outputs": [],
   "source": [
    "X /= 255"
   ]
  },
  {
   "cell_type": "markdown",
   "metadata": {},
   "source": [
    "## Costruiamo la nostra rete convolutiva"
   ]
  },
  {
   "cell_type": "markdown",
   "metadata": {},
   "source": [
    "Come nello scorso tutorial, cominciamo definendo i nostri placeholder di input e di output:"
   ]
  },
  {
   "cell_type": "code",
   "execution_count": 10,
   "metadata": {
    "collapsed": true
   },
   "outputs": [],
   "source": [
    "import tensorflow as tf\n",
    "X_tf = tf.placeholder(tf.float32, [None, 50, 37, 1], name='input')\n",
    "y_tf = tf.placeholder(tf.float32, [None, 1], name='target')"
   ]
  },
  {
   "cell_type": "markdown",
   "metadata": {},
   "source": [
    "Al posto di definire manualmente tutte le variabili e le operazioni della rete, iniziamo ad utilizzare gli strati già definiti nel modulo <code>layers</code>:\n",
    "https://www.tensorflow.org/api_docs/python/tf/layers/.\n",
    "\n",
    "Va sottolineato da subito come alcuni di questi strati si appoggiano interiormente a funzioni più semplici definite nel modulo <code>nn</code>, come lo strato per la convoluzione 2D (<code>conv2D</code>):\n",
    "\n",
    "https://www.tensorflow.org/api_docs/python/tf/layers/conv2d<br />\n",
    "https://www.tensorflow.org/api_docs/python/tf/nn/conv2d\n",
    "\n",
    "Questa duplicazione di classi non deve però confondere, in quanto è possibile usare in maniera equivalente ciascuno dei due; le funzioni in <code>nn</code> hanno in genere meno parametri e meno flessibilità, e sono preferibili quando questa flessibilità non è richiesta.\n",
    "\n",
    "Per uniformità, in questo tutorial useremo solo le funzioni definite nel modulo <code>layers</code>. La nostra rete sarà così composta:\n",
    "\n",
    "* Uno strato convolutivo, con 64 filtri 5x5.\n",
    "* Uno strato di pooling 2x2.\n",
    "* Un secondo strato convolutivo, con 32 filtri 5x5.\n",
    "* Un secondo strato di pooling 2x2.\n",
    "* Uno strato interamente connesso con 20 neuroni.\n",
    "* Un neurone di uscita con la classe desiderata.\n",
    "\n",
    "Questa non è ovviamente l'unica scelta, né tantomeno la migliore, il che richiederebbe un'ottimizzazione più completa di tutto il design della rete (si veda ad esempio [questo articolo](https://arxiv.org/abs/1611.00847)). Questo genere di alternanza di strati convolutivi e pooling, di dimensioni sempre più piccole, e seguito da strati densamente connessi è però tipico nella maggior parte delle applicazioni con reti non molto grandi. Considereremo il design di reti più complesse e la loro ottimizzazione in tutorial successivi; va detto da subito, comunque, che spesso questa fase di costruzione è più un unirsi di esperienza ed 'arte', piuttosto che il susseguirsi di regole precise."
   ]
  },
  {
   "cell_type": "markdown",
   "metadata": {},
   "source": [
    "Iniziamo definendo il primo strato convolutivo:"
   ]
  },
  {
   "cell_type": "code",
   "execution_count": 11,
   "metadata": {
    "collapsed": false
   },
   "outputs": [],
   "source": [
    "conv1 = tf.layers.conv2d(X_tf, 64, (5,5), activation=tf.nn.relu, name='conv1')"
   ]
  },
  {
   "cell_type": "markdown",
   "metadata": {},
   "source": [
    "Andiamo a valutare la dimensione del tensore di uscita:"
   ]
  },
  {
   "cell_type": "code",
   "execution_count": 12,
   "metadata": {
    "collapsed": false
   },
   "outputs": [
    {
     "data": {
      "text/plain": [
       "TensorShape([Dimension(None), Dimension(46), Dimension(33), Dimension(64)])"
      ]
     },
     "execution_count": 12,
     "metadata": {},
     "output_type": "execute_result"
    }
   ],
   "source": [
    "conv1.shape"
   ]
  },
  {
   "cell_type": "markdown",
   "metadata": {},
   "source": [
    "Come sempre, la prima dimensione rappresenta un mini-batch di attivazioni. Il resto del tensore è quindi costituito da 64 filtri, ciascuno 46x33. Si noti la leggera discrepanza con la dimensione delle immagini di ingresso: poiché la convoluzione non è definita sui bordi dell'immagine, perdiamo 2 pixel in ogni dimensione. Possiamo ovviare a questo problema aggiungendo del padding di zeri sui bordi dell'immagine originale:"
   ]
  },
  {
   "cell_type": "code",
   "execution_count": 13,
   "metadata": {
    "collapsed": false
   },
   "outputs": [],
   "source": [
    "# conv1 = tf.layers.conv2d(X_tf, 64, (5,5), padding='same', name='conv1')"
   ]
  },
  {
   "cell_type": "markdown",
   "metadata": {},
   "source": [
    "Continuiamo aggiungendo lo strato di pooling, questa volta considerando il padding:"
   ]
  },
  {
   "cell_type": "code",
   "execution_count": 14,
   "metadata": {
    "collapsed": true
   },
   "outputs": [],
   "source": [
    "pool1 = tf.layers.max_pooling2d(conv1, (2,2), (2,2), padding='same', name='pool1')"
   ]
  },
  {
   "cell_type": "markdown",
   "metadata": {},
   "source": [
    "Il terzo parametro rappresenta lo **stride**, ovvero ogni quanti pixel calcoliamo un risultato. Con questa configurazione, abbiamo effettivamente dimezzato la dimensione dei tensori: "
   ]
  },
  {
   "cell_type": "code",
   "execution_count": 15,
   "metadata": {
    "collapsed": false
   },
   "outputs": [
    {
     "data": {
      "text/plain": [
       "TensorShape([Dimension(None), Dimension(23), Dimension(17), Dimension(64)])"
      ]
     },
     "execution_count": 15,
     "metadata": {},
     "output_type": "execute_result"
    }
   ],
   "source": [
    "pool1.shape"
   ]
  },
  {
   "cell_type": "markdown",
   "metadata": {},
   "source": [
    "Continuiamo con tutti gli strati rimanenti:"
   ]
  },
  {
   "cell_type": "code",
   "execution_count": 16,
   "metadata": {
    "collapsed": false
   },
   "outputs": [],
   "source": [
    "conv2 = tf.layers.conv2d(pool1, 32, (5,5), activation=tf.nn.relu, padding='same', name='conv2')\n",
    "pool2 = tf.layers.max_pooling2d(conv2, (2,2), (2,2), padding='same', name='pool2')\n",
    "dense = tf.layers.dense(tf.reshape(pool2, [-1, 12*9*32]), 20, activation=tf.nn.relu, name='dense')"
   ]
  },
  {
   "cell_type": "markdown",
   "metadata": {},
   "source": [
    "Si noti come, per applicare lo strato interamente connesso, è necessario eseguire un reshape del tensore di ingresso, in modo che ogni input sia 1D. Concludiamo con l'ultimo strato con un'attivazione sigmoide:"
   ]
  },
  {
   "cell_type": "code",
   "execution_count": 17,
   "metadata": {
    "collapsed": false
   },
   "outputs": [],
   "source": [
    "output = tf.layers.dense(dense, 1, activation=None, name='output')\n",
    "output_sigmoid = tf.nn.sigmoid(output)"
   ]
  },
  {
   "cell_type": "markdown",
   "metadata": {},
   "source": [
    "## Allenare la rete convolutiva"
   ]
  },
  {
   "cell_type": "markdown",
   "metadata": {},
   "source": [
    "La fase di allenamento è sostanzialmente uguale allo scorso tutorial. In particolare, definiamo una funzione per estrarre mini-batch casuali dalle nostre immagini di training:"
   ]
  },
  {
   "cell_type": "code",
   "execution_count": 18,
   "metadata": {
    "collapsed": true
   },
   "outputs": [],
   "source": [
    "def iterate_minibatches(X, y, batchsize):\n",
    "    indices = np.arange(len(X))\n",
    "    np.random.shuffle(indices)\n",
    "    for start_idx in range(0, len(X) - batchsize + 1, batchsize):\n",
    "        excerpt = indices[start_idx:start_idx + batchsize]\n",
    "        yield X[excerpt], y[excerpt]"
   ]
  },
  {
   "cell_type": "markdown",
   "metadata": {},
   "source": [
    "Definiamo una funzione costo:"
   ]
  },
  {
   "cell_type": "code",
   "execution_count": 19,
   "metadata": {
    "collapsed": false
   },
   "outputs": [],
   "source": [
    "loss = tf.reduce_mean(tf.nn.sigmoid_cross_entropy_with_logits(labels=y_tf, logits=output))"
   ]
  },
  {
   "cell_type": "markdown",
   "metadata": {},
   "source": [
    "Inizializziamo un algoritmo di ottimizzazione:"
   ]
  },
  {
   "cell_type": "code",
   "execution_count": 20,
   "metadata": {
    "collapsed": false
   },
   "outputs": [],
   "source": [
    "train_step = tf.train.AdagradOptimizer(learning_rate=0.01).minimize(loss)"
   ]
  },
  {
   "cell_type": "markdown",
   "metadata": {},
   "source": [
    "Per valutare l'accuratezza, definiamo una funzione ausiliaria:"
   ]
  },
  {
   "cell_type": "code",
   "execution_count": 21,
   "metadata": {
    "collapsed": false
   },
   "outputs": [],
   "source": [
    "accuracy = tf.reduce_mean(tf.cast(tf.equal(y_tf, tf.round(output_sigmoid)), tf.float32), name='accuracy')"
   ]
  },
  {
   "cell_type": "markdown",
   "metadata": {},
   "source": [
    "Creiamo una sessione ed inizializziamo tutte le variabili:"
   ]
  },
  {
   "cell_type": "code",
   "execution_count": 22,
   "metadata": {
    "collapsed": false
   },
   "outputs": [],
   "source": [
    "sess = tf.InteractiveSession()\n",
    "tf.global_variables_initializer().run()"
   ]
  },
  {
   "cell_type": "markdown",
   "metadata": {},
   "source": [
    "Definiamo una dimensione del mini-batch ed un numero di epoche:"
   ]
  },
  {
   "cell_type": "code",
   "execution_count": 23,
   "metadata": {
    "collapsed": true
   },
   "outputs": [],
   "source": [
    "epochs = 25\n",
    "batch_size = 10"
   ]
  },
  {
   "cell_type": "markdown",
   "metadata": {},
   "source": [
    "Poiché il training potrebbe essere più lento dello scorso tutorial, installiamo un modulo per visualizzare una semplice barra di progresso:\n",
    "\n",
    "<code>$ pip install tqdm"
   ]
  },
  {
   "cell_type": "markdown",
   "metadata": {},
   "source": [
    "Minimizziamo la funzione costo, tenendo traccia dell'accuratezza sul test set ad ogni iterazione:"
   ]
  },
  {
   "cell_type": "code",
   "execution_count": 24,
   "metadata": {
    "collapsed": false
   },
   "outputs": [
    {
     "name": "stdout",
     "output_type": "stream",
     "text": [
      "Current loss is:  6.66727\n",
      "Current loss is:  2.1861\n",
      "Current loss is:  0.551535\n",
      "Current loss is:  0.426429\n",
      "Current loss is:  0.319568\n",
      "Current loss is:  0.24247\n",
      "Current loss is:  0.186849\n",
      "Current loss is:  0.240138\n",
      "Current loss is:  0.138694\n",
      "Current loss is:  0.0947196\n",
      "Current loss is:  0.0959329\n",
      "Current loss is:  0.055467\n",
      "Current loss is:  0.0548337\n",
      "Current loss is:  0.0352569\n",
      "Current loss is:  0.0356559\n",
      "Current loss is:  0.0200885\n",
      "Current loss is:  0.0174607\n",
      "Current loss is:  0.016162\n",
      "Current loss is:  0.0123268\n",
      "Current loss is:  0.010254\n",
      "Current loss is:  0.00883825\n",
      "Current loss is:  0.00784905\n",
      "Current loss is:  0.0073456\n",
      "Current loss is:  0.00730925\n",
      "Current loss is:  0.00553962\n",
      "\n"
     ]
    }
   ],
   "source": [
    "import numpy as np, tqdm\n",
    "accuracy_history = np.zeros(epochs)\n",
    "for i in tqdm.tqdm_notebook(range(epochs)):\n",
    "    accuracy_history[i] = sess.run(accuracy, feed_dict={X_tf: X_tst, y_tf: y_tst})\n",
    "    print('Current loss is: ', sess.run(loss, feed_dict={X_tf: X_trn, y_tf: y_trn}))\n",
    "    for xs, ys in iterate_minibatches(X_trn, y_trn, batch_size):\n",
    "        sess.run(train_step, feed_dict={X_tf: xs, y_tf: ys})"
   ]
  },
  {
   "cell_type": "markdown",
   "metadata": {},
   "source": [
    "Visualizziamo l'accuratezza media sul test set:"
   ]
  },
  {
   "cell_type": "code",
   "execution_count": 25,
   "metadata": {
    "collapsed": false
   },
   "outputs": [
    {
     "data": {
      "image/png": "[encoded data removed]",
      "text/plain": [
       "<matplotlib.figure.Figure at 0xccf8e10>"
      ]
     },
     "metadata": {},
     "output_type": "display_data"
    }
   ],
   "source": [
    "plt.figure()\n",
    "plt.semilogy(accuracy_history)\n",
    "plt.xlabel('Epoch')\n",
    "plt.ylabel('Test error')\n",
    "plt.grid()"
   ]
  },
  {
   "cell_type": "markdown",
   "metadata": {},
   "source": [
    "Come si vede, l'accuratezza raggiunge rapidamente il 100%. Se continuassimo il training, o con un dataset meno pulito, ci vorrebbe poco prima di passare però in un regime di **overfitting**. Questo non deve stupire: come detto all'inizio, la flessibilità delle reti neurali è enorme, ed il nostro dataset in questo e molti altri casi è ben lungi dall'essere perfetto. L'overfitting e le tecniche per affrontarlo nelle CNN saranno uno dei protagonisti di un prossimo tutorial.\n",
    "\n",
    "Prima di rispondere (in parte) a tutte queste domande, ci occuperemo del tema essenziale di **visualizzare** quanto avviene in fase di allenamento."
   ]
  }
 ],
 "metadata": {
  "kernelspec": {
   "display_name": "Python 3",
   "language": "python",
   "name": "python3"
  },
  "language_info": {
   "codemirror_mode": {
    "name": "ipython",
    "version": 3
   },
   "file_extension": ".py",
   "mimetype": "text/x-python",
   "name": "python",
   "nbconvert_exporter": "python",
   "pygments_lexer": "ipython3",
   "version": "3.5.2"
  }
 },
 "nbformat": 4,
 "nbformat_minor": 2
}
