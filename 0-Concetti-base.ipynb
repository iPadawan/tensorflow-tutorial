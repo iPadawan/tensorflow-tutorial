{
 "cells": [
  {
   "cell_type": "markdown",
   "metadata": {},
   "source": [
    "# Introduzione a TensorFlow"
   ]
  },
  {
   "cell_type": "markdown",
   "metadata": {},
   "source": [
    "**TensorFlow** (TF), rilasciato da Google in open source nel 2015, è un framework ad alto livello per lo sviluppo di applicazioni di machine learning, con particolare riguardo verso il [Deep Learning](https://www.nature.com/nature/journal/v521/n7553/full/nature14539.html). \n",
    "\n",
    "Come vedremo nei tutorial più avanti, TF permette di costruire (ed allenare) modelli estremamente elaborati, relegando alla macchina alcuni dei compiti più complessi, come il calcolo dei gradienti e l'esecuzione su GPU. In questo tutorial, ci limiteremo ad esplorare l'idea di base di TF, i **grafi computazionali**, con un semplice esempio di regressione lineare. Prima di questo, iniziamo introducendo tutti gli elementi di base che compongono tali grafi computazionali."
   ]
  },
  {
   "cell_type": "markdown",
   "metadata": {},
   "source": [
    "## Un primo grafo computazionale"
   ]
  },
  {
   "cell_type": "markdown",
   "metadata": {},
   "source": [
    "Iniziamo ovviamente importando TF; se non l'avete ancora fatto, installate l'ultima versione della libreria (al momento della scrittura di questo tutorial, la 1.1), seguendo una delle guide ufficiali:\n",
    "https://www.tensorflow.org/install/"
   ]
  },
  {
   "cell_type": "code",
   "execution_count": 1,
   "metadata": {
    "collapsed": true
   },
   "outputs": [],
   "source": [
    "import tensorflow as tf"
   ]
  },
  {
   "cell_type": "markdown",
   "metadata": {},
   "source": [
    "### Tensori e costanti"
   ]
  },
  {
   "cell_type": "markdown",
   "metadata": {},
   "source": [
    "Un grafo computazionale definisce una particolare sequenza di operazioni, applicate ad uno o più **tensori**. Per gli scopi di TF, un tensore è semplicemente un insieme di elementi (tipicamente numeri), ordinati su uno o più dimensioni, con alcune operazioni di base a loro associati.\n",
    "\n",
    "In 2 dimensioni, ad esempio, un tensore non è altro che la familiare **matrice** dell'algebra lineare: \n",
    "\n",
    "$$\n",
    "A = \\begin{bmatrix}\n",
    "1 & 3 \\\\\n",
    "-4 & 5\n",
    "\\end{bmatrix}\n",
    "$$\n",
    "\n",
    "Cominciamo quindi definendo una matrice di esempio:"
   ]
  },
  {
   "cell_type": "code",
   "execution_count": 2,
   "metadata": {
    "collapsed": true
   },
   "outputs": [],
   "source": [
    "A = tf.constant([[1.0, 3.0], [-4.0, 5.0]])"
   ]
  },
  {
   "cell_type": "markdown",
   "metadata": {},
   "source": [
    "L'operazione restituisce un oggetto di tipo <code>Tensor</code>, uno degli oggetti di base di TF:"
   ]
  },
  {
   "cell_type": "code",
   "execution_count": 3,
   "metadata": {
    "collapsed": false
   },
   "outputs": [
    {
     "name": "stdout",
     "output_type": "stream",
     "text": [
      "Tensor(\"Const:0\", shape=(2, 2), dtype=float32)\n"
     ]
    }
   ],
   "source": [
    "print(A)"
   ]
  },
  {
   "cell_type": "markdown",
   "metadata": {},
   "source": [
    "Come si può vedere, un tensore è rappresentato da una dimensione (in questo caso, 2x2), e dal tipo dei suoi elementi. L'operazione di prima crea un nodo **costante**, il cui valore è preassegnato e non può essere mai modificato. Possiamo imporre un tipo diverso da quello predefinito passandolo come secondo parametro della funzione:"
   ]
  },
  {
   "cell_type": "code",
   "execution_count": 4,
   "metadata": {
    "collapsed": false
   },
   "outputs": [
    {
     "name": "stdout",
     "output_type": "stream",
     "text": [
      "Tensor(\"Const_1:0\", shape=(2, 2), dtype=float64)\n"
     ]
    }
   ],
   "source": [
    "B = tf.constant([[-0.3, 2], [6, 1/2]], tf.float64)\n",
    "print(B)"
   ]
  },
  {
   "cell_type": "markdown",
   "metadata": {},
   "source": [
    "### Operazioni su tensori"
   ]
  },
  {
   "cell_type": "markdown",
   "metadata": {},
   "source": [
    "Un grafo computazionale prende in input uno o più tensori, ed esegue su di essi una serie di **operazioni**, il cui ordine è definito da un grafo aciclico. Per cominciare, consideriamo una semplice operazione di somma dei nostri due tensori:"
   ]
  },
  {
   "cell_type": "code",
   "execution_count": 5,
   "metadata": {
    "collapsed": false
   },
   "outputs": [],
   "source": [
    "C = tf.add(A, tf.cast(B, tf.float32))"
   ]
  },
  {
   "cell_type": "markdown",
   "metadata": {},
   "source": [
    "Si noti la necessità di convertire B ad una precisione inferiore, per renderlo compatibile con A. Per visualizzare il grafo, installiamo il package [tfgraphviz](https://github.com/akimach/tfgraphviz/blob/master/examples/jupyter_sample.ipynb) da console di comando:\n",
    "\n",
    "<code>$ pip install tfgraphviz\n",
    "</code>\n",
    "\n",
    "Possiamo ora visualizzare il grafo con una semplice istruzione:"
   ]
  },
  {
   "cell_type": "code",
   "execution_count": 9,
   "metadata": {
    "collapsed": false
   },
   "outputs": [
    {
     "data": {
      "image/svg+xml": [
       "<?xml version=\"1.0\" encoding=\"UTF-8\" standalone=\"no\"?>\r\n",
       "<!DOCTYPE svg PUBLIC \"-//W3C//DTD SVG 1.1//EN\"\r\n",
       " \"http://www.w3.org/Graphics/SVG/1.1/DTD/svg11.dtd\">\r\n",
       "<!-- Generated by graphviz version 2.38.0 (20140413.2041)\r\n",
       " -->\r\n",
       "<!-- Title: G Pages: 1 -->\r\n",
       "<svg width=\"161pt\" height=\"218pt\"\r\n",
       " viewBox=\"0.00 0.00 160.74 218.00\" xmlns=\"http://www.w3.org/2000/svg\" xmlns:xlink=\"http://www.w3.org/1999/xlink\">\r\n",
       "<g id=\"graph0\" class=\"graph\" transform=\"scale(1 1) rotate(0) translate(4 214)\">\r\n",
       "<title>G</title>\r\n",
       "<polygon fill=\"white\" stroke=\"none\" points=\"-4,4 -4,-214 156.743,-214 156.743,4 -4,4\"/>\r\n",
       "<!-- Cast -->\r\n",
       "<g id=\"node1\" class=\"node\"><title>Cast</title>\r\n",
       "<ellipse fill=\"white\" stroke=\"#aaaaaa\" stroke-width=\"2\" cx=\"110.497\" cy=\"-105\" rx=\"27.0966\" ry=\"18\"/>\r\n",
       "<text text-anchor=\"middle\" x=\"110.497\" y=\"-101.3\" font-family=\"Times New Roman,serif\" font-size=\"14.00\" fill=\"#414141\">Cast</text>\r\n",
       "</g>\r\n",
       "<!-- Add -->\r\n",
       "<g id=\"node3\" class=\"node\"><title>Add</title>\r\n",
       "<ellipse fill=\"white\" stroke=\"#aaaaaa\" stroke-width=\"2\" cx=\"62.4971\" cy=\"-18\" rx=\"27\" ry=\"18\"/>\r\n",
       "<text text-anchor=\"middle\" x=\"62.4971\" y=\"-14.3\" font-family=\"Times New Roman,serif\" font-size=\"14.00\" fill=\"#414141\">Add</text>\r\n",
       "</g>\r\n",
       "<!-- Cast&#45;&gt;Add -->\r\n",
       "<g id=\"edge2\" class=\"edge\"><title>Cast&#45;&gt;Add</title>\r\n",
       "<path fill=\"none\" stroke=\"#aaaaaa\" stroke-width=\"2.5\" d=\"M101.469,-88.0122C94.8067,-76.2149 85.5822,-59.8798 77.7801,-46.0635\"/>\r\n",
       "<polygon fill=\"#aaaaaa\" stroke=\"#aaaaaa\" stroke-width=\"2.5\" points=\"81.2061,-43.589 71.6483,-35.2052 73.8918,-47.7195 81.2061,-43.589\"/>\r\n",
       "<text text-anchor=\"middle\" x=\"99.4971\" y=\"-57.8\" font-family=\"Times New Roman,serif\" font-size=\"14.00\" fill=\"#414141\">2×2</text>\r\n",
       "</g>\r\n",
       "<!-- Const_1 -->\r\n",
       "<g id=\"node2\" class=\"node\"><title>Const_1</title>\r\n",
       "<ellipse fill=\"white\" stroke=\"#aaaaaa\" stroke-width=\"2\" cx=\"110.497\" cy=\"-192\" rx=\"42.4939\" ry=\"18\"/>\r\n",
       "<text text-anchor=\"middle\" x=\"110.497\" y=\"-188.3\" font-family=\"Times New Roman,serif\" font-size=\"14.00\" fill=\"#414141\">Const_1</text>\r\n",
       "</g>\r\n",
       "<!-- Const_1&#45;&gt;Cast -->\r\n",
       "<g id=\"edge1\" class=\"edge\"><title>Const_1&#45;&gt;Cast</title>\r\n",
       "<path fill=\"none\" stroke=\"#aaaaaa\" stroke-width=\"2.5\" d=\"M110.497,-173.799C110.497,-162.739 110.497,-148.084 110.497,-135.23\"/>\r\n",
       "<polygon fill=\"#aaaaaa\" stroke=\"#aaaaaa\" stroke-width=\"2.5\" points=\"114.697,-135.175 110.497,-123.175 106.297,-135.175 114.697,-135.175\"/>\r\n",
       "<text text-anchor=\"middle\" x=\"121.497\" y=\"-144.8\" font-family=\"Times New Roman,serif\" font-size=\"14.00\" fill=\"#414141\">2×2</text>\r\n",
       "</g>\r\n",
       "<!-- Const -->\r\n",
       "<g id=\"node4\" class=\"node\"><title>Const</title>\r\n",
       "<ellipse fill=\"white\" stroke=\"#aaaaaa\" stroke-width=\"2\" cx=\"32.4971\" cy=\"-105\" rx=\"32.4942\" ry=\"18\"/>\r\n",
       "<text text-anchor=\"middle\" x=\"32.4971\" y=\"-101.3\" font-family=\"Times New Roman,serif\" font-size=\"14.00\" fill=\"#414141\">Const</text>\r\n",
       "</g>\r\n",
       "<!-- Const&#45;&gt;Add -->\r\n",
       "<g id=\"edge3\" class=\"edge\"><title>Const&#45;&gt;Add</title>\r\n",
       "<path fill=\"none\" stroke=\"#aaaaaa\" stroke-width=\"2.5\" d=\"M38.2017,-86.8346C41.4475,-77.1671 45.6262,-64.8846 49.4971,-54 50.2953,-51.7556 51.1322,-49.4343 51.9803,-47.1044\"/>\r\n",
       "<polygon fill=\"#aaaaaa\" stroke=\"#aaaaaa\" stroke-width=\"2.5\" points=\"55.9745,-48.4122 56.1862,-35.7001 48.0934,-45.5056 55.9745,-48.4122\"/>\r\n",
       "<text text-anchor=\"middle\" x=\"60.4971\" y=\"-57.8\" font-family=\"Times New Roman,serif\" font-size=\"14.00\" fill=\"#414141\">2×2</text>\r\n",
       "</g>\r\n",
       "</g>\r\n",
       "</svg>\r\n"
      ],
      "text/plain": [
       "<graphviz.dot.Digraph at 0x9046b00>"
      ]
     },
     "execution_count": 9,
     "metadata": {},
     "output_type": "execute_result"
    }
   ],
   "source": [
    "import tfgraphviz as tfg\n",
    "tfg.board(tf.get_default_graph())"
   ]
  },
  {
   "cell_type": "markdown",
   "metadata": {},
   "source": [
    "In linea generale, *visualizzare* quello che succede all'interno di TF, il quale lavora su oggetti inerentemente simbolici, è un argomento essenziale, per cui Google ha rilasciato numerosi strumenti, a partire dalla **TensorBoard** fino al debugger ufficiale di TF. Torneremo ripetutamente su questi temi più avanti."
   ]
  },
  {
   "cell_type": "markdown",
   "metadata": {},
   "source": [
    "### Input dinamici e variabili"
   ]
  },
  {
   "cell_type": "markdown",
   "metadata": {},
   "source": [
    "Definire grafi statici è, ovviamente, di interesse limitato. Dopo costanti ed operazioni, il terzo elemento essenziale di un grafo computazionale è un **placeholder**, ovvero un nodo il cui valore non viene assegnato, se non quando il grafo viene effettivamente eseguito."
   ]
  },
  {
   "cell_type": "markdown",
   "metadata": {},
   "source": [
    "Riscriviamo il nostro esempio di prima con due variabili; per comodità di visualizzazione, possiamo assegnare a ciascun nodo del grafo un nome:"
   ]
  },
  {
   "cell_type": "code",
   "execution_count": 14,
   "metadata": {
    "collapsed": false
   },
   "outputs": [
    {
     "data": {
      "image/svg+xml": [
       "<?xml version=\"1.0\" encoding=\"UTF-8\" standalone=\"no\"?>\r\n",
       "<!DOCTYPE svg PUBLIC \"-//W3C//DTD SVG 1.1//EN\"\r\n",
       " \"http://www.w3.org/Graphics/SVG/1.1/DTD/svg11.dtd\">\r\n",
       "<!-- Generated by graphviz version 2.38.0 (20140413.2041)\r\n",
       " -->\r\n",
       "<!-- Title: G Pages: 1 -->\r\n",
       "<svg width=\"134pt\" height=\"116pt\"\r\n",
       " viewBox=\"0.00 0.00 134.00 116.00\" xmlns=\"http://www.w3.org/2000/svg\" xmlns:xlink=\"http://www.w3.org/1999/xlink\">\r\n",
       "<g id=\"graph0\" class=\"graph\" transform=\"scale(1 1) rotate(0) translate(4 112)\">\r\n",
       "<title>G</title>\r\n",
       "<polygon fill=\"white\" stroke=\"none\" points=\"-4,4 -4,-112 130,-112 130,4 -4,4\"/>\r\n",
       "<!-- B -->\r\n",
       "<g id=\"node1\" class=\"node\"><title>B</title>\r\n",
       "<ellipse fill=\"white\" stroke=\"#aaaaaa\" stroke-width=\"2\" cx=\"27\" cy=\"-90\" rx=\"27\" ry=\"18\"/>\r\n",
       "<text text-anchor=\"middle\" x=\"27\" y=\"-86.3\" font-family=\"Times New Roman,serif\" font-size=\"14.00\" fill=\"#414141\">B</text>\r\n",
       "</g>\r\n",
       "<!-- Adder -->\r\n",
       "<g id=\"node2\" class=\"node\"><title>Adder</title>\r\n",
       "<ellipse fill=\"white\" stroke=\"#aaaaaa\" stroke-width=\"2\" cx=\"63\" cy=\"-18\" rx=\"33.5952\" ry=\"18\"/>\r\n",
       "<text text-anchor=\"middle\" x=\"63\" y=\"-14.3\" font-family=\"Times New Roman,serif\" font-size=\"14.00\" fill=\"#414141\">Adder</text>\r\n",
       "</g>\r\n",
       "<!-- B&#45;&gt;Adder -->\r\n",
       "<g id=\"edge1\" class=\"edge\"><title>B&#45;&gt;Adder</title>\r\n",
       "<path fill=\"none\" stroke=\"#aaaaaa\" stroke-width=\"2.5\" d=\"M35.3496,-72.7646C39.3805,-64.9268 44.3281,-55.3066 48.9183,-46.381\"/>\r\n",
       "<polygon fill=\"#aaaaaa\" stroke=\"#aaaaaa\" stroke-width=\"2.5\" points=\"52.6925,-48.2257 54.4457,-35.6334 45.2224,-44.384 52.6925,-48.2257\"/>\r\n",
       "</g>\r\n",
       "<!-- A -->\r\n",
       "<g id=\"node3\" class=\"node\"><title>A</title>\r\n",
       "<ellipse fill=\"white\" stroke=\"#aaaaaa\" stroke-width=\"2\" cx=\"99\" cy=\"-90\" rx=\"27\" ry=\"18\"/>\r\n",
       "<text text-anchor=\"middle\" x=\"99\" y=\"-86.3\" font-family=\"Times New Roman,serif\" font-size=\"14.00\" fill=\"#414141\">A</text>\r\n",
       "</g>\r\n",
       "<!-- A&#45;&gt;Adder -->\r\n",
       "<g id=\"edge2\" class=\"edge\"><title>A&#45;&gt;Adder</title>\r\n",
       "<path fill=\"none\" stroke=\"#aaaaaa\" stroke-width=\"2.5\" d=\"M90.6504,-72.7646C86.6195,-64.9268 81.6719,-55.3066 77.0817,-46.381\"/>\r\n",
       "<polygon fill=\"#aaaaaa\" stroke=\"#aaaaaa\" stroke-width=\"2.5\" points=\"80.7776,-44.384 71.5543,-35.6334 73.3075,-48.2257 80.7776,-44.384\"/>\r\n",
       "</g>\r\n",
       "</g>\r\n",
       "</svg>\r\n"
      ],
      "text/plain": [
       "<graphviz.dot.Digraph at 0x9118a90>"
      ]
     },
     "execution_count": 14,
     "metadata": {},
     "output_type": "execute_result"
    }
   ],
   "source": [
    "tf.reset_default_graph()\n",
    "A = tf.placeholder(tf.float32, name='A')\n",
    "B = tf.placeholder(tf.float32, name='B')\n",
    "C = tf.add(A, B, name='Adder')\n",
    "tfg.board(tf.get_default_graph())"
   ]
  },
  {
   "cell_type": "markdown",
   "metadata": {},
   "source": [
    "Si noti come è necessario resettare il grafo, in modo da rimuovere le operazioni definite in precedenza. In modo più generale, potremmo definire in maniera pragmatica oggetti di tipo <code>Graph</code> su cui aggiungere operazioni, al posto di lavorare sul grafo di default; vedremo un esempio di questo più avanti."
   ]
  },
  {
   "cell_type": "markdown",
   "metadata": {},
   "source": [
    "### Eseguiamo il grafo"
   ]
  },
  {
   "cell_type": "markdown",
   "metadata": {},
   "source": [
    "Una volta definito l'intero grafo computazionale, possiamo eseguire il grafo. Un grafo viene eseguito all'interno di un oggetto che si occupa (tra le altre cose) della sua compilazione e di gestire tutte le risorse del sistema, una **sessione**:"
   ]
  },
  {
   "cell_type": "code",
   "execution_count": 16,
   "metadata": {
    "collapsed": false
   },
   "outputs": [
    {
     "data": {
      "text/plain": [
       "[array([ 4.], dtype=float32)]"
      ]
     },
     "execution_count": 16,
     "metadata": {},
     "output_type": "execute_result"
    }
   ],
   "source": [
    "sess = tf.Session()\n",
    "sess.run([C], feed_dict={A: [1], B: [3]})"
   ]
  },
  {
   "cell_type": "markdown",
   "metadata": {},
   "source": [
    "Come si può vedere, eseguire un grafo equivale a richiedere il valore di uno o più nodi (in questo caso, C), fornendo un valore esplicito per tutti i placeholder del grafo. Più avanti vedremo come TF mette a disposizione un oggetto più complesso, una <code>InteractiveSession</code>, per rendere più flessibile la fase di definizione del grafo."
   ]
  },
  {
   "cell_type": "code",
   "execution_count": null,
   "metadata": {
    "collapsed": true
   },
   "outputs": [],
   "source": []
  }
 ],
 "metadata": {
  "kernelspec": {
   "display_name": "Python 3",
   "language": "python",
   "name": "python3"
  },
  "language_info": {
   "codemirror_mode": {
    "name": "ipython",
    "version": 3
   },
   "file_extension": ".py",
   "mimetype": "text/x-python",
   "name": "python",
   "nbconvert_exporter": "python",
   "pygments_lexer": "ipython3",
   "version": "3.5.2"
  }
 },
 "nbformat": 4,
 "nbformat_minor": 2
}
