{
 "cells": [
  {
   "cell_type": "markdown",
   "metadata": {},
   "source": [
    "# Introduzione a TensorFlow"
   ]
  },
  {
   "cell_type": "markdown",
   "metadata": {},
   "source": [
    "**TensorFlow** (TF), rilasciato da Google in open source nel 2015, è un framework ad alto livello per lo sviluppo di applicazioni di machine learning, con particolare riguardo verso il [Deep Learning](https://www.nature.com/nature/journal/v521/n7553/full/nature14539.html). \n",
    "\n",
    "Come vedremo nei tutorial più avanti, TF permette di costruire (ed allenare) modelli estremamente elaborati, relegando alla macchina alcuni dei compiti più complessi, come il calcolo dei gradienti e l'esecuzione su GPU. In questo tutorial, ci limiteremo ad esplorare l'idea di base di TF, i **grafi computazionali**. Un grafo computazionale è un formalismo immediato che permette di descrivere una serie di operazioni matematiche da svolgere in una certa sequenza:"
   ]
  },
  {
   "cell_type": "markdown",
   "metadata": {},
   "source": [
    "![Esempio di grafo computazionale in TF](images/tensors_flowing.gif)"
   ]
  },
  {
   "cell_type": "markdown",
   "metadata": {},
   "source": [
    "Come si vede, l'esecuzione del grafo comincia da uno o più nodi di input, e procede di nodo in nodo fino ai valori più esterni. In questo tutorial, implementeremo un  esempio di regressione lineare tramite grafo computazionale. Prima di questo, iniziamo introducendo tutti gli elementi di base che compongono tali grafi."
   ]
  },
  {
   "cell_type": "markdown",
   "metadata": {},
   "source": [
    "## Un primo grafo computazionale"
   ]
  },
  {
   "cell_type": "markdown",
   "metadata": {},
   "source": [
    "Iniziamo ovviamente importando TF; se non l'avete ancora fatto, installate l'ultima versione della libreria (al momento della scrittura di questo tutorial, la 1.1), seguendo una delle guide ufficiali:\n",
    "https://www.tensorflow.org/install/"
   ]
  },
  {
   "cell_type": "code",
   "execution_count": 1,
   "metadata": {
    "collapsed": true
   },
   "outputs": [],
   "source": [
    "import tensorflow as tf"
   ]
  },
  {
   "cell_type": "markdown",
   "metadata": {},
   "source": [
    "### Tensori e costanti"
   ]
  },
  {
   "cell_type": "markdown",
   "metadata": {},
   "source": [
    "Un grafo computazionale definisce una particolare sequenza di operazioni, applicate ad uno o più **tensori**. Per gli scopi di TF, un tensore è semplicemente un insieme di elementi (generalmente numeri reali), ordinati su uno o più dimensioni, con alcune operazioni di base a loro associati.\n",
    "\n",
    "In 2 dimensioni, ad esempio, un tensore non è altro che la familiare **matrice** dell'algebra lineare: \n",
    "\n",
    "$$\n",
    "A = \\begin{bmatrix}\n",
    "1 & 3 \\\\\n",
    "-4 & 5\n",
    "\\end{bmatrix}\n",
    "$$\n",
    "\n",
    "Cominciamo definendo proprio questa matrice in TF:"
   ]
  },
  {
   "cell_type": "code",
   "execution_count": 2,
   "metadata": {
    "collapsed": true
   },
   "outputs": [],
   "source": [
    "A = tf.constant([[1.0, 3.0], [-4.0, 5.0]])"
   ]
  },
  {
   "cell_type": "markdown",
   "metadata": {},
   "source": [
    "L'operazione restituisce un oggetto di tipo <code>Tensor</code>, uno degli oggetti di base di TF:"
   ]
  },
  {
   "cell_type": "code",
   "execution_count": 3,
   "metadata": {
    "collapsed": false
   },
   "outputs": [
    {
     "name": "stdout",
     "output_type": "stream",
     "text": [
      "Tensor(\"Const:0\", shape=(2, 2), dtype=float32)\n"
     ]
    }
   ],
   "source": [
    "print(A)"
   ]
  },
  {
   "cell_type": "markdown",
   "metadata": {},
   "source": [
    "Come si può vedere, un tensore è rappresentato da una dimensione (in questo caso, 2x2), e dal tipo dei suoi elementi. L'operazione di prima crea un grafo computazionale con un unico nodo, di tipo **costante**, ovvero il cui valore è preassegnato e non può essere mai modificato. A differenza di quanto avviene lavorando con le classiche matrici in <code>NumPy</code>, non possiamo direttamente accedere al valore del tensore, se non *eseguendo* esplicitamente il grafo.\n",
    "\n",
    "Possiamo imporre un tipo diverso da quello predefinito passandolo come secondo parametro della funzione:"
   ]
  },
  {
   "cell_type": "code",
   "execution_count": 4,
   "metadata": {
    "collapsed": false
   },
   "outputs": [
    {
     "name": "stdout",
     "output_type": "stream",
     "text": [
      "Tensor(\"Const_1:0\", shape=(2, 2), dtype=float64)\n"
     ]
    }
   ],
   "source": [
    "B = tf.constant([[-0.3, 2], [6, 1/2]], tf.float64)\n",
    "print(B)"
   ]
  },
  {
   "cell_type": "markdown",
   "metadata": {},
   "source": [
    "### Operazioni su tensori"
   ]
  },
  {
   "cell_type": "markdown",
   "metadata": {},
   "source": [
    "Nel caso più generale, un grafo computazionale prende in input uno o più dei tensori visti prima, ed esegue su di essi una serie di **operazioni**, il cui ordine è definito da un grafo aciclico. \n",
    "\n",
    "Per cominciare, consideriamo una semplice operazione di somma dei nostri due tensori:"
   ]
  },
  {
   "cell_type": "code",
   "execution_count": 5,
   "metadata": {
    "collapsed": false
   },
   "outputs": [],
   "source": [
    "C = tf.add(A, tf.cast(B, tf.float32))"
   ]
  },
  {
   "cell_type": "markdown",
   "metadata": {},
   "source": [
    "Si noti la necessità di convertire B ad una precisione inferiore, per renderlo compatibile con A. Per visualizzare il grafo, installiamo il package [tfgraphviz](https://github.com/akimach/tfgraphviz/blob/master/examples/jupyter_sample.ipynb) da console di comando:\n",
    "\n",
    "<code>$ pip install tfgraphviz\n",
    "</code>\n",
    "\n",
    "Possiamo ora visualizzare il grafo con una semplice istruzione:"
   ]
  },
  {
   "cell_type": "code",
   "execution_count": 6,
   "metadata": {
    "collapsed": false
   },
   "outputs": [
    {
     "data": {
      "image/svg+xml": [
       "<?xml version=\"1.0\" encoding=\"UTF-8\" standalone=\"no\"?>\r\n",
       "<!DOCTYPE svg PUBLIC \"-//W3C//DTD SVG 1.1//EN\"\r\n",
       " \"http://www.w3.org/Graphics/SVG/1.1/DTD/svg11.dtd\">\r\n",
       "<!-- Generated by graphviz version 2.38.0 (20140413.2041)\r\n",
       " -->\r\n",
       "<!-- Title: G Pages: 1 -->\r\n",
       "<svg width=\"161pt\" height=\"218pt\"\r\n",
       " viewBox=\"0.00 0.00 160.74 218.00\" xmlns=\"http://www.w3.org/2000/svg\" xmlns:xlink=\"http://www.w3.org/1999/xlink\">\r\n",
       "<g id=\"graph0\" class=\"graph\" transform=\"scale(1 1) rotate(0) translate(4 214)\">\r\n",
       "<title>G</title>\r\n",
       "<polygon fill=\"white\" stroke=\"none\" points=\"-4,4 -4,-214 156.743,-214 156.743,4 -4,4\"/>\r\n",
       "<!-- Cast -->\r\n",
       "<g id=\"node1\" class=\"node\"><title>Cast</title>\r\n",
       "<ellipse fill=\"white\" stroke=\"#aaaaaa\" stroke-width=\"2\" cx=\"110.497\" cy=\"-105\" rx=\"27.0966\" ry=\"18\"/>\r\n",
       "<text text-anchor=\"middle\" x=\"110.497\" y=\"-101.3\" font-family=\"Times New Roman,serif\" font-size=\"14.00\" fill=\"#414141\">Cast</text>\r\n",
       "</g>\r\n",
       "<!-- Add -->\r\n",
       "<g id=\"node2\" class=\"node\"><title>Add</title>\r\n",
       "<ellipse fill=\"white\" stroke=\"#aaaaaa\" stroke-width=\"2\" cx=\"62.4971\" cy=\"-18\" rx=\"27\" ry=\"18\"/>\r\n",
       "<text text-anchor=\"middle\" x=\"62.4971\" y=\"-14.3\" font-family=\"Times New Roman,serif\" font-size=\"14.00\" fill=\"#414141\">Add</text>\r\n",
       "</g>\r\n",
       "<!-- Cast&#45;&gt;Add -->\r\n",
       "<g id=\"edge2\" class=\"edge\"><title>Cast&#45;&gt;Add</title>\r\n",
       "<path fill=\"none\" stroke=\"#aaaaaa\" stroke-width=\"2.5\" d=\"M101.469,-88.0122C94.8067,-76.2149 85.5822,-59.8798 77.7801,-46.0635\"/>\r\n",
       "<polygon fill=\"#aaaaaa\" stroke=\"#aaaaaa\" stroke-width=\"2.5\" points=\"81.2061,-43.589 71.6483,-35.2052 73.8918,-47.7195 81.2061,-43.589\"/>\r\n",
       "<text text-anchor=\"middle\" x=\"99.4971\" y=\"-57.8\" font-family=\"Times New Roman,serif\" font-size=\"14.00\" fill=\"#414141\">2×2</text>\r\n",
       "</g>\r\n",
       "<!-- Const_1 -->\r\n",
       "<g id=\"node3\" class=\"node\"><title>Const_1</title>\r\n",
       "<ellipse fill=\"white\" stroke=\"#aaaaaa\" stroke-width=\"2\" cx=\"110.497\" cy=\"-192\" rx=\"42.4939\" ry=\"18\"/>\r\n",
       "<text text-anchor=\"middle\" x=\"110.497\" y=\"-188.3\" font-family=\"Times New Roman,serif\" font-size=\"14.00\" fill=\"#414141\">Const_1</text>\r\n",
       "</g>\r\n",
       "<!-- Const_1&#45;&gt;Cast -->\r\n",
       "<g id=\"edge1\" class=\"edge\"><title>Const_1&#45;&gt;Cast</title>\r\n",
       "<path fill=\"none\" stroke=\"#aaaaaa\" stroke-width=\"2.5\" d=\"M110.497,-173.799C110.497,-162.739 110.497,-148.084 110.497,-135.23\"/>\r\n",
       "<polygon fill=\"#aaaaaa\" stroke=\"#aaaaaa\" stroke-width=\"2.5\" points=\"114.697,-135.175 110.497,-123.175 106.297,-135.175 114.697,-135.175\"/>\r\n",
       "<text text-anchor=\"middle\" x=\"121.497\" y=\"-144.8\" font-family=\"Times New Roman,serif\" font-size=\"14.00\" fill=\"#414141\">2×2</text>\r\n",
       "</g>\r\n",
       "<!-- Const -->\r\n",
       "<g id=\"node4\" class=\"node\"><title>Const</title>\r\n",
       "<ellipse fill=\"white\" stroke=\"#aaaaaa\" stroke-width=\"2\" cx=\"32.4971\" cy=\"-105\" rx=\"32.4942\" ry=\"18\"/>\r\n",
       "<text text-anchor=\"middle\" x=\"32.4971\" y=\"-101.3\" font-family=\"Times New Roman,serif\" font-size=\"14.00\" fill=\"#414141\">Const</text>\r\n",
       "</g>\r\n",
       "<!-- Const&#45;&gt;Add -->\r\n",
       "<g id=\"edge3\" class=\"edge\"><title>Const&#45;&gt;Add</title>\r\n",
       "<path fill=\"none\" stroke=\"#aaaaaa\" stroke-width=\"2.5\" d=\"M38.2017,-86.8346C41.4475,-77.1671 45.6262,-64.8846 49.4971,-54 50.2953,-51.7556 51.1322,-49.4343 51.9803,-47.1044\"/>\r\n",
       "<polygon fill=\"#aaaaaa\" stroke=\"#aaaaaa\" stroke-width=\"2.5\" points=\"55.9745,-48.4122 56.1862,-35.7001 48.0934,-45.5056 55.9745,-48.4122\"/>\r\n",
       "<text text-anchor=\"middle\" x=\"60.4971\" y=\"-57.8\" font-family=\"Times New Roman,serif\" font-size=\"14.00\" fill=\"#414141\">2×2</text>\r\n",
       "</g>\r\n",
       "</g>\r\n",
       "</svg>\r\n"
      ],
      "text/plain": [
       "<graphviz.dot.Digraph at 0x35176a0>"
      ]
     },
     "execution_count": 6,
     "metadata": {},
     "output_type": "execute_result"
    }
   ],
   "source": [
    "import tfgraphviz as tfg\n",
    "tfg.board(tf.get_default_graph())"
   ]
  },
  {
   "cell_type": "markdown",
   "metadata": {},
   "source": [
    "In linea generale, *visualizzare* quello che succede all'interno di TF, il quale lavora su oggetti inerentemente simbolici, è un argomento essenziale, per cui Google ha rilasciato numerosi strumenti, a partire dalla **TensorBoard** fino al debugger ufficiale di TF. Torneremo ripetutamente su questi temi più avanti."
   ]
  },
  {
   "cell_type": "markdown",
   "metadata": {},
   "source": [
    "### Input dinamici e variabili"
   ]
  },
  {
   "cell_type": "markdown",
   "metadata": {},
   "source": [
    "Definire grafi statici è, ovviamente, di interesse limitato. Dopo costanti ed operazioni, il terzo elemento essenziale di un grafo computazionale è un **placeholder**, ovvero un nodo il cui valore non viene assegnato, se non quando il grafo viene effettivamente eseguito."
   ]
  },
  {
   "cell_type": "markdown",
   "metadata": {},
   "source": [
    "Riscriviamo il nostro esempio di prima con due variabili; per comodità di visualizzazione, possiamo assegnare a ciascun nodo del grafo un nome:"
   ]
  },
  {
   "cell_type": "code",
   "execution_count": 7,
   "metadata": {
    "collapsed": false
   },
   "outputs": [
    {
     "data": {
      "image/svg+xml": [
       "<?xml version=\"1.0\" encoding=\"UTF-8\" standalone=\"no\"?>\r\n",
       "<!DOCTYPE svg PUBLIC \"-//W3C//DTD SVG 1.1//EN\"\r\n",
       " \"http://www.w3.org/Graphics/SVG/1.1/DTD/svg11.dtd\">\r\n",
       "<!-- Generated by graphviz version 2.38.0 (20140413.2041)\r\n",
       " -->\r\n",
       "<!-- Title: G Pages: 1 -->\r\n",
       "<svg width=\"134pt\" height=\"116pt\"\r\n",
       " viewBox=\"0.00 0.00 134.00 116.00\" xmlns=\"http://www.w3.org/2000/svg\" xmlns:xlink=\"http://www.w3.org/1999/xlink\">\r\n",
       "<g id=\"graph0\" class=\"graph\" transform=\"scale(1 1) rotate(0) translate(4 112)\">\r\n",
       "<title>G</title>\r\n",
       "<polygon fill=\"white\" stroke=\"none\" points=\"-4,4 -4,-112 130,-112 130,4 -4,4\"/>\r\n",
       "<!-- Adder -->\r\n",
       "<g id=\"node1\" class=\"node\"><title>Adder</title>\r\n",
       "<ellipse fill=\"white\" stroke=\"#aaaaaa\" stroke-width=\"2\" cx=\"63\" cy=\"-18\" rx=\"33.5952\" ry=\"18\"/>\r\n",
       "<text text-anchor=\"middle\" x=\"63\" y=\"-14.3\" font-family=\"Times New Roman,serif\" font-size=\"14.00\" fill=\"#414141\">Adder</text>\r\n",
       "</g>\r\n",
       "<!-- A -->\r\n",
       "<g id=\"node2\" class=\"node\"><title>A</title>\r\n",
       "<ellipse fill=\"white\" stroke=\"#aaaaaa\" stroke-width=\"2\" cx=\"27\" cy=\"-90\" rx=\"27\" ry=\"18\"/>\r\n",
       "<text text-anchor=\"middle\" x=\"27\" y=\"-86.3\" font-family=\"Times New Roman,serif\" font-size=\"14.00\" fill=\"#414141\">A</text>\r\n",
       "</g>\r\n",
       "<!-- A&#45;&gt;Adder -->\r\n",
       "<g id=\"edge1\" class=\"edge\"><title>A&#45;&gt;Adder</title>\r\n",
       "<path fill=\"none\" stroke=\"#aaaaaa\" stroke-width=\"2.5\" d=\"M35.3496,-72.7646C39.3805,-64.9268 44.3281,-55.3066 48.9183,-46.381\"/>\r\n",
       "<polygon fill=\"#aaaaaa\" stroke=\"#aaaaaa\" stroke-width=\"2.5\" points=\"52.6925,-48.2257 54.4457,-35.6334 45.2224,-44.384 52.6925,-48.2257\"/>\r\n",
       "</g>\r\n",
       "<!-- B -->\r\n",
       "<g id=\"node3\" class=\"node\"><title>B</title>\r\n",
       "<ellipse fill=\"white\" stroke=\"#aaaaaa\" stroke-width=\"2\" cx=\"99\" cy=\"-90\" rx=\"27\" ry=\"18\"/>\r\n",
       "<text text-anchor=\"middle\" x=\"99\" y=\"-86.3\" font-family=\"Times New Roman,serif\" font-size=\"14.00\" fill=\"#414141\">B</text>\r\n",
       "</g>\r\n",
       "<!-- B&#45;&gt;Adder -->\r\n",
       "<g id=\"edge2\" class=\"edge\"><title>B&#45;&gt;Adder</title>\r\n",
       "<path fill=\"none\" stroke=\"#aaaaaa\" stroke-width=\"2.5\" d=\"M90.6504,-72.7646C86.6195,-64.9268 81.6719,-55.3066 77.0817,-46.381\"/>\r\n",
       "<polygon fill=\"#aaaaaa\" stroke=\"#aaaaaa\" stroke-width=\"2.5\" points=\"80.7776,-44.384 71.5543,-35.6334 73.3075,-48.2257 80.7776,-44.384\"/>\r\n",
       "</g>\r\n",
       "</g>\r\n",
       "</svg>\r\n"
      ],
      "text/plain": [
       "<graphviz.dot.Digraph at 0x9844ef0>"
      ]
     },
     "execution_count": 7,
     "metadata": {},
     "output_type": "execute_result"
    }
   ],
   "source": [
    "tf.reset_default_graph()\n",
    "A = tf.placeholder(tf.float32, name='A')\n",
    "B = tf.placeholder(tf.float32, name='B')\n",
    "C = tf.add(A, B, name='Adder')\n",
    "tfg.board(tf.get_default_graph())"
   ]
  },
  {
   "cell_type": "markdown",
   "metadata": {},
   "source": [
    "Si noti come è necessario resettare il grafo, in modo da rimuovere le operazioni definite in precedenza. In modo più generale, potremmo definire in maniera pragmatica oggetti di tipo <code>Graph</code> su cui aggiungere operazioni, al posto di lavorare sul grafo di default; vedremo un esempio di questo più avanti."
   ]
  },
  {
   "cell_type": "markdown",
   "metadata": {},
   "source": [
    "### Eseguiamo il grafo"
   ]
  },
  {
   "cell_type": "markdown",
   "metadata": {},
   "source": [
    "Una volta definito l'intero grafo computazionale, possiamo eseguire il grafo. Un grafo viene eseguito all'interno di un oggetto che si occupa (tra le altre cose) della sua compilazione e di gestire tutte le risorse del sistema, una **sessione**:"
   ]
  },
  {
   "cell_type": "code",
   "execution_count": 8,
   "metadata": {
    "collapsed": false
   },
   "outputs": [
    {
     "data": {
      "text/plain": [
       "[array([ 4.], dtype=float32)]"
      ]
     },
     "execution_count": 8,
     "metadata": {},
     "output_type": "execute_result"
    }
   ],
   "source": [
    "sess = tf.Session()\n",
    "sess.run([C], feed_dict={A: [1], B: [3]})"
   ]
  },
  {
   "cell_type": "markdown",
   "metadata": {},
   "source": [
    "Come si può vedere, eseguire un grafo equivale a richiedere il valore di uno o più nodi (in questo caso, C), fornendo un valore esplicito per tutti i placeholder del grafo tramite il dizionario <code>feed_dict</code>. \n",
    "\n",
    "TF mette anche a disposizione un oggetto più complesso, una <code>InteractiveSession</code>, per rendere più flessibile la fase di definizione del grafo."
   ]
  },
  {
   "cell_type": "markdown",
   "metadata": {
    "collapsed": true
   },
   "source": [
    "# Un esempio più complesso: regressione lineare"
   ]
  },
  {
   "cell_type": "markdown",
   "metadata": {},
   "source": [
    "## Creazione del dataset"
   ]
  },
  {
   "cell_type": "markdown",
   "metadata": {},
   "source": [
    "Come esempio preliminare prima di passare alle reti neurali, vediamo una semplice applicazione di TF per un modello di regressione lineare con un dataset 1D. Come primo passo, andiamo a generare un dataset di prova, dove l'output desiderato è dato da una funzione lineare dell'input, ma ciascun esempio è corrotto da rumore di tipo Gaussiano:"
   ]
  },
  {
   "cell_type": "code",
   "execution_count": 9,
   "metadata": {
    "collapsed": true
   },
   "outputs": [],
   "source": [
    "# Numero di esempi nel training set\n",
    "N = 50\n",
    "\n",
    "# Input campionati casualmente tra [0, 10]\n",
    "import numpy as np\n",
    "X = np.random.rand(N)*10\n",
    "\n",
    "# L'output desiderato è lineare, a meno di un'aggiunta di rumore\n",
    "y = 0.1*X - 0.3 + 0.1*np.random.randn(N)"
   ]
  },
  {
   "cell_type": "markdown",
   "metadata": {},
   "source": [
    "Si noti la struttura del **dataset**, che ricorrerà spesso nei tutorial successivi: due matrici, X ed y, corrispondenti a tutte le coppie input/output in nostro possesso, dove ogni riga corrisponde ad un **esempio** specifico. Visualizziamo il nostro dataset di prova con Matplotlib:"
   ]
  },
  {
   "cell_type": "code",
   "execution_count": 10,
   "metadata": {
    "collapsed": false
   },
   "outputs": [
    {
     "data": {
      "image/png": "[encoded data removed]",
      "text/plain": [
       "<matplotlib.figure.Figure at 0xa8eb7f0>"
      ]
     },
     "metadata": {},
     "output_type": "display_data"
    }
   ],
   "source": [
    "%matplotlib inline\n",
    "import matplotlib.pyplot as plt\n",
    "plt.figure()\n",
    "plt.plot(X, 0.1*X - 0.3, 'b--', label='Real')\n",
    "plt.plot(X, y, 'ro', label='Tr. set', markersize=5)\n",
    "plt.grid()\n",
    "plt.show()"
   ]
  },
  {
   "cell_type": "markdown",
   "metadata": {},
   "source": [
    "## Definizione di una funzione obiettivo (cenni)"
   ]
  },
  {
   "cell_type": "markdown",
   "metadata": {},
   "source": [
    "L'obiettivo della [regressione lineare](https://it.wikipedia.org/wiki/Regressione_lineare) è recuperare i parametri ottimi di un modello lineare (nel nostro caso, 0.1 e -0.3), a partire dai punti osservati (in rosso nella figura di prima).\n",
    "\n",
    "Per farlo, scegliamo (w,b) di modo che l'**errore quadratico** medio compiuto dal nostro modello sia più piccolo possibile:\n",
    "\n",
    "$$\n",
    "J(w,b) = \\frac{1}{N}\\sum_{i=1}^N (y_i - wx_i - b)^2 \\,,\n",
    "$$"
   ]
  },
  {
   "cell_type": "markdown",
   "metadata": {},
   "source": [
    "La regressione lineare è uno degli algoritmi più semplici immaginabili per risolvere un problema di machine learning, ma ne racchiude già alcuni degli elementi essenziali:\n",
    "\n",
    "- La scelta di un modello, in questo caso lineare.\n",
    "- La definizione di una **funzione obiettivo** $J$, la cui minimizzazione è necessaria per scegliere i parametri ottimi (in questo caso, solamente due).\n",
    "\n",
    "Per il momento, dedichiamoci a creare un grafo computazionale che descriva tale funzione obiettivo; vedremo in seguito come sfruttare le potenzialità di TF per minimizzarla (in termini tecnici, **ottimizzarla**) e recuperare i parametri ottimi."
   ]
  },
  {
   "cell_type": "markdown",
   "metadata": {},
   "source": [
    "## Definire la funzione obiettivo in TF"
   ]
  },
  {
   "cell_type": "markdown",
   "metadata": {},
   "source": [
    "Per valutare la funzione obiettivo, partiamo dai nostri input/output di training, che (come prima) rappresentiamo con due placeholder:"
   ]
  },
  {
   "cell_type": "code",
   "execution_count": 11,
   "metadata": {
    "collapsed": true
   },
   "outputs": [],
   "source": [
    "tf.reset_default_graph()\n",
    "X_tf = tf.placeholder(tf.float32, name='X_tf')\n",
    "y_tf = tf.placeholder(tf.float32, name='y_tf')"
   ]
  },
  {
   "cell_type": "markdown",
   "metadata": {},
   "source": [
    "I parametri del modello (w, b) sono oggetti particolari, di cui dovremo ripetutamente modificare il valore prima di trovare quello ottimale. In generale, tutti i parametri allenabili di un modello devono essere oggetti con uno **stato**, il quale venga aggiornato iterativamente dall'algoritmo scelto per l'ottimizzazione."
   ]
  },
  {
   "cell_type": "markdown",
   "metadata": {},
   "source": [
    "Per rappresentarli, l'ultimo elemento essenziale di TF sono le **variabili**:"
   ]
  },
  {
   "cell_type": "code",
   "execution_count": 12,
   "metadata": {
    "collapsed": true
   },
   "outputs": [],
   "source": [
    "w = tf.Variable([-0.1], tf.float32, name='w')\n",
    "b = tf.Variable([-0.1], tf.float32, name='b')"
   ]
  },
  {
   "cell_type": "markdown",
   "metadata": {},
   "source": [
    "Adesso abbiamo tutti gli elementi per definire il nostro modello lineare:"
   ]
  },
  {
   "cell_type": "code",
   "execution_count": 13,
   "metadata": {
    "collapsed": false
   },
   "outputs": [],
   "source": [
    "f = w*X_tf + b"
   ]
  },
  {
   "cell_type": "markdown",
   "metadata": {},
   "source": [
    "Rimane solo da definire la funzione obiettivo: per farlo, calcoliamo tutti gli errori compiuti dal nostro modello, li eleviamo al quadrato, e ne calcoliamo la media con la funzione <code>reduce_mean</code>:"
   ]
  },
  {
   "cell_type": "code",
   "execution_count": 14,
   "metadata": {
    "collapsed": true
   },
   "outputs": [],
   "source": [
    "e = y_tf - f\n",
    "J = tf.reduce_mean(tf.square(e))"
   ]
  },
  {
   "cell_type": "markdown",
   "metadata": {},
   "source": [
    "Come prima, andiamo a visualizzare il grafo computazionale così ottenuto:"
   ]
  },
  {
   "cell_type": "code",
   "execution_count": 15,
   "metadata": {
    "collapsed": false
   },
   "outputs": [
    {
     "data": {
      "image/svg+xml": [
       "<?xml version=\"1.0\" encoding=\"UTF-8\" standalone=\"no\"?>\r\n",
       "<!DOCTYPE svg PUBLIC \"-//W3C//DTD SVG 1.1//EN\"\r\n",
       " \"http://www.w3.org/Graphics/SVG/1.1/DTD/svg11.dtd\">\r\n",
       "<!-- Generated by graphviz version 2.38.0 (20140413.2041)\r\n",
       " -->\r\n",
       "<!-- Title: G Pages: 1 -->\r\n",
       "<svg width=\"242pt\" height=\"597pt\"\r\n",
       " viewBox=\"0.00 0.00 241.84 597.00\" xmlns=\"http://www.w3.org/2000/svg\" xmlns:xlink=\"http://www.w3.org/1999/xlink\">\r\n",
       "<g id=\"graph0\" class=\"graph\" transform=\"scale(1 1) rotate(0) translate(4 593)\">\r\n",
       "<title>G</title>\r\n",
       "<polygon fill=\"white\" stroke=\"none\" points=\"-4,4 -4,-593 237.845,-593 237.845,4 -4,4\"/>\r\n",
       "<!-- add -->\r\n",
       "<g id=\"node1\" class=\"node\"><title>add</title>\r\n",
       "<ellipse fill=\"white\" stroke=\"#aaaaaa\" stroke-width=\"2\" cx=\"122.547\" cy=\"-397\" rx=\"27\" ry=\"18\"/>\r\n",
       "<text text-anchor=\"middle\" x=\"122.547\" y=\"-393.3\" font-family=\"Times New Roman,serif\" font-size=\"14.00\" fill=\"#414141\">add</text>\r\n",
       "</g>\r\n",
       "<!-- sub -->\r\n",
       "<g id=\"node11\" class=\"node\"><title>sub</title>\r\n",
       "<ellipse fill=\"white\" stroke=\"#aaaaaa\" stroke-width=\"2\" cx=\"74.5473\" cy=\"-324\" rx=\"27\" ry=\"18\"/>\r\n",
       "<text text-anchor=\"middle\" x=\"74.5473\" y=\"-320.3\" font-family=\"Times New Roman,serif\" font-size=\"14.00\" fill=\"#414141\">sub</text>\r\n",
       "</g>\r\n",
       "<!-- add&#45;&gt;sub -->\r\n",
       "<g id=\"edge3\" class=\"edge\"><title>add&#45;&gt;sub</title>\r\n",
       "<path fill=\"none\" stroke=\"#aaaaaa\" stroke-width=\"2.5\" d=\"M111.895,-380.243C106.053,-371.602 98.6647,-360.674 92.0042,-350.822\"/>\r\n",
       "<polygon fill=\"#aaaaaa\" stroke=\"#aaaaaa\" stroke-width=\"2.5\" points=\"95.3707,-348.302 85.1703,-340.713 88.4117,-353.007 95.3707,-348.302\"/>\r\n",
       "</g>\r\n",
       "<!-- Rank -->\r\n",
       "<g id=\"node2\" class=\"node\"><title>Rank</title>\r\n",
       "<ellipse fill=\"white\" stroke=\"#aaaaaa\" stroke-width=\"2\" cx=\"30.5473\" cy=\"-178\" rx=\"29.795\" ry=\"18\"/>\r\n",
       "<text text-anchor=\"middle\" x=\"30.5473\" y=\"-174.3\" font-family=\"Times New Roman,serif\" font-size=\"14.00\" fill=\"#414141\">Rank</text>\r\n",
       "</g>\r\n",
       "<!-- range -->\r\n",
       "<g id=\"node4\" class=\"node\"><title>range</title>\r\n",
       "<ellipse fill=\"white\" stroke=\"#aaaaaa\" stroke-width=\"2\" cx=\"30.5473\" cy=\"-105\" rx=\"30.5947\" ry=\"18\"/>\r\n",
       "<text text-anchor=\"middle\" x=\"30.5473\" y=\"-101.3\" font-family=\"Times New Roman,serif\" font-size=\"14.00\" fill=\"#414141\">range</text>\r\n",
       "</g>\r\n",
       "<!-- Rank&#45;&gt;range -->\r\n",
       "<g id=\"edge11\" class=\"edge\"><title>Rank&#45;&gt;range</title>\r\n",
       "<path fill=\"none\" stroke=\"#aaaaaa\" stroke-width=\"2.5\" d=\"M30.5473,-159.813C30.5473,-152.4 30.5473,-143.52 30.5473,-135.131\"/>\r\n",
       "<polygon fill=\"#aaaaaa\" stroke=\"#aaaaaa\" stroke-width=\"2.5\" points=\"34.7474,-135.029 30.5473,-123.029 26.3474,-135.029 34.7474,-135.029\"/>\r\n",
       "</g>\r\n",
       "<!-- w -->\r\n",
       "<g id=\"node3\" class=\"node\"><title>w</title>\r\n",
       "<ellipse fill=\"white\" stroke=\"#aaaaaa\" stroke-width=\"2\" cx=\"134.547\" cy=\"-571\" rx=\"27\" ry=\"18\"/>\r\n",
       "<text text-anchor=\"middle\" x=\"134.547\" y=\"-567.3\" font-family=\"Times New Roman,serif\" font-size=\"14.00\" fill=\"#414141\">w</text>\r\n",
       "</g>\r\n",
       "<!-- mul -->\r\n",
       "<g id=\"node6\" class=\"node\"><title>mul</title>\r\n",
       "<ellipse fill=\"white\" stroke=\"#aaaaaa\" stroke-width=\"2\" cx=\"170.547\" cy=\"-484\" rx=\"27\" ry=\"18\"/>\r\n",
       "<text text-anchor=\"middle\" x=\"170.547\" y=\"-480.3\" font-family=\"Times New Roman,serif\" font-size=\"14.00\" fill=\"#414141\">mul</text>\r\n",
       "</g>\r\n",
       "<!-- w&#45;&gt;mul -->\r\n",
       "<g id=\"edge6\" class=\"edge\"><title>w&#45;&gt;mul</title>\r\n",
       "<path fill=\"none\" stroke=\"#aaaaaa\" stroke-width=\"2.5\" d=\"M141.66,-553.207C146.523,-541.724 153.085,-526.23 158.726,-512.911\"/>\r\n",
       "<polygon fill=\"#aaaaaa\" stroke=\"#aaaaaa\" stroke-width=\"2.5\" points=\"162.76,-514.157 163.572,-501.469 155.025,-510.881 162.76,-514.157\"/>\r\n",
       "<text text-anchor=\"middle\" x=\"158.047\" y=\"-523.8\" font-family=\"Times New Roman,serif\" font-size=\"14.00\" fill=\"#414141\">1</text>\r\n",
       "</g>\r\n",
       "<!-- Mean -->\r\n",
       "<g id=\"node10\" class=\"node\"><title>Mean</title>\r\n",
       "<ellipse fill=\"white\" stroke=\"#aaaaaa\" stroke-width=\"2\" cx=\"69.5473\" cy=\"-18\" rx=\"30.5947\" ry=\"18\"/>\r\n",
       "<text text-anchor=\"middle\" x=\"69.5473\" y=\"-14.3\" font-family=\"Times New Roman,serif\" font-size=\"14.00\" fill=\"#414141\">Mean</text>\r\n",
       "</g>\r\n",
       "<!-- range&#45;&gt;Mean -->\r\n",
       "<g id=\"edge10\" class=\"edge\"><title>range&#45;&gt;Mean</title>\r\n",
       "<path fill=\"none\" stroke=\"#aaaaaa\" stroke-width=\"2.5\" d=\"M38.2524,-87.2067C43.5749,-75.6064 50.7754,-59.9132 56.9277,-46.5043\"/>\r\n",
       "<polygon fill=\"#aaaaaa\" stroke=\"#aaaaaa\" stroke-width=\"2.5\" points=\"60.8039,-48.1274 61.9909,-35.4692 53.1692,-44.6244 60.8039,-48.1274\"/>\r\n",
       "<text text-anchor=\"middle\" x=\"56.0473\" y=\"-57.8\" font-family=\"Times New Roman,serif\" font-size=\"14.00\" fill=\"#414141\">?</text>\r\n",
       "</g>\r\n",
       "<!-- b -->\r\n",
       "<g id=\"node5\" class=\"node\"><title>b</title>\r\n",
       "<ellipse fill=\"white\" stroke=\"#aaaaaa\" stroke-width=\"2\" cx=\"98.5473\" cy=\"-484\" rx=\"27\" ry=\"18\"/>\r\n",
       "<text text-anchor=\"middle\" x=\"98.5473\" y=\"-480.3\" font-family=\"Times New Roman,serif\" font-size=\"14.00\" fill=\"#414141\">b</text>\r\n",
       "</g>\r\n",
       "<!-- b&#45;&gt;add -->\r\n",
       "<g id=\"edge2\" class=\"edge\"><title>b&#45;&gt;add</title>\r\n",
       "<path fill=\"none\" stroke=\"#aaaaaa\" stroke-width=\"2.5\" d=\"M103.289,-466.207C106.477,-454.914 110.761,-439.743 114.479,-426.576\"/>\r\n",
       "<polygon fill=\"#aaaaaa\" stroke=\"#aaaaaa\" stroke-width=\"2.5\" points=\"118.597,-427.448 117.816,-414.758 110.513,-425.166 118.597,-427.448\"/>\r\n",
       "<text text-anchor=\"middle\" x=\"115.047\" y=\"-436.8\" font-family=\"Times New Roman,serif\" font-size=\"14.00\" fill=\"#414141\">1</text>\r\n",
       "</g>\r\n",
       "<!-- mul&#45;&gt;add -->\r\n",
       "<g id=\"edge1\" class=\"edge\"><title>mul&#45;&gt;add</title>\r\n",
       "<path fill=\"none\" stroke=\"#aaaaaa\" stroke-width=\"2.5\" d=\"M161.519,-467.012C154.857,-455.215 145.632,-438.88 137.83,-425.064\"/>\r\n",
       "<polygon fill=\"#aaaaaa\" stroke=\"#aaaaaa\" stroke-width=\"2.5\" points=\"141.256,-422.589 131.698,-414.205 133.942,-426.719 141.256,-422.589\"/>\r\n",
       "</g>\r\n",
       "<!-- y_tf -->\r\n",
       "<g id=\"node7\" class=\"node\"><title>y_tf</title>\r\n",
       "<ellipse fill=\"white\" stroke=\"#aaaaaa\" stroke-width=\"2\" cx=\"50.5473\" cy=\"-397\" rx=\"27\" ry=\"18\"/>\r\n",
       "<text text-anchor=\"middle\" x=\"50.5473\" y=\"-393.3\" font-family=\"Times New Roman,serif\" font-size=\"14.00\" fill=\"#414141\">y_tf</text>\r\n",
       "</g>\r\n",
       "<!-- y_tf&#45;&gt;sub -->\r\n",
       "<g id=\"edge4\" class=\"edge\"><title>y_tf&#45;&gt;sub</title>\r\n",
       "<path fill=\"none\" stroke=\"#aaaaaa\" stroke-width=\"2.5\" d=\"M56.235,-379.174C58.8652,-371.393 62.061,-361.939 65.042,-353.12\"/>\r\n",
       "<polygon fill=\"#aaaaaa\" stroke=\"#aaaaaa\" stroke-width=\"2.5\" points=\"69.0365,-354.418 68.9005,-341.705 61.0788,-351.728 69.0365,-354.418\"/>\r\n",
       "</g>\r\n",
       "<!-- X_tf -->\r\n",
       "<g id=\"node8\" class=\"node\"><title>X_tf</title>\r\n",
       "<ellipse fill=\"white\" stroke=\"#aaaaaa\" stroke-width=\"2\" cx=\"206.547\" cy=\"-571\" rx=\"27.0966\" ry=\"18\"/>\r\n",
       "<text text-anchor=\"middle\" x=\"206.547\" y=\"-567.3\" font-family=\"Times New Roman,serif\" font-size=\"14.00\" fill=\"#414141\">X_tf</text>\r\n",
       "</g>\r\n",
       "<!-- X_tf&#45;&gt;mul -->\r\n",
       "<g id=\"edge5\" class=\"edge\"><title>X_tf&#45;&gt;mul</title>\r\n",
       "<path fill=\"none\" stroke=\"#aaaaaa\" stroke-width=\"2.5\" d=\"M199.435,-553.207C194.571,-541.724 188.009,-526.23 182.369,-512.911\"/>\r\n",
       "<polygon fill=\"#aaaaaa\" stroke=\"#aaaaaa\" stroke-width=\"2.5\" points=\"186.07,-510.881 177.522,-501.469 178.335,-514.157 186.07,-510.881\"/>\r\n",
       "</g>\r\n",
       "<!-- Square -->\r\n",
       "<g id=\"node9\" class=\"node\"><title>Square</title>\r\n",
       "<ellipse fill=\"white\" stroke=\"#aaaaaa\" stroke-width=\"2\" cx=\"74.5473\" cy=\"-251\" rx=\"36.2938\" ry=\"18\"/>\r\n",
       "<text text-anchor=\"middle\" x=\"74.5473\" y=\"-247.3\" font-family=\"Times New Roman,serif\" font-size=\"14.00\" fill=\"#414141\">Square</text>\r\n",
       "</g>\r\n",
       "<!-- Square&#45;&gt;Rank -->\r\n",
       "<g id=\"edge7\" class=\"edge\"><title>Square&#45;&gt;Rank</title>\r\n",
       "<path fill=\"none\" stroke=\"#aaaaaa\" stroke-width=\"2.5\" d=\"M64.3422,-233.533C59.2331,-225.288 52.9191,-215.1 47.1367,-205.769\"/>\r\n",
       "<polygon fill=\"#aaaaaa\" stroke=\"#aaaaaa\" stroke-width=\"2.5\" points=\"50.5883,-203.366 40.697,-195.378 43.4482,-207.791 50.5883,-203.366\"/>\r\n",
       "</g>\r\n",
       "<!-- Square&#45;&gt;Mean -->\r\n",
       "<g id=\"edge9\" class=\"edge\"><title>Square&#45;&gt;Mean</title>\r\n",
       "<path fill=\"none\" stroke=\"#aaaaaa\" stroke-width=\"2.5\" d=\"M74.1715,-232.637C73.3206,-193.327 71.239,-97.1562 70.1834,-48.3872\"/>\r\n",
       "<polygon fill=\"#aaaaaa\" stroke=\"#aaaaaa\" stroke-width=\"2.5\" points=\"74.3794,-48.1552 69.9206,-36.2489 65.9814,-48.337 74.3794,-48.1552\"/>\r\n",
       "</g>\r\n",
       "<!-- sub&#45;&gt;Square -->\r\n",
       "<g id=\"edge8\" class=\"edge\"><title>sub&#45;&gt;Square</title>\r\n",
       "<path fill=\"none\" stroke=\"#aaaaaa\" stroke-width=\"2.5\" d=\"M74.5473,-305.813C74.5473,-298.4 74.5473,-289.52 74.5473,-281.131\"/>\r\n",
       "<polygon fill=\"#aaaaaa\" stroke=\"#aaaaaa\" stroke-width=\"2.5\" points=\"78.7474,-281.029 74.5473,-269.029 70.3474,-281.029 78.7474,-281.029\"/>\r\n",
       "</g>\r\n",
       "</g>\r\n",
       "</svg>\r\n"
      ],
      "text/plain": [
       "<graphviz.dot.Digraph at 0x9833d30>"
      ]
     },
     "execution_count": 15,
     "metadata": {},
     "output_type": "execute_result"
    }
   ],
   "source": [
    "import tfgraphviz as tfg\n",
    "tfg.board(tf.get_default_graph())"
   ]
  },
  {
   "cell_type": "markdown",
   "metadata": {},
   "source": [
    "Si noti come alcune operazioni di base di TF (es., <code>reduce_mean</code>) corrispondono a diversi nodi nel grafo computazionale. Tale grafo inizia ad essere di difficile lettura: vedremo più avanti come affrontare questo problema."
   ]
  },
  {
   "cell_type": "markdown",
   "metadata": {},
   "source": [
    "## Ottimizzare una funzione obiettivo (cenni)"
   ]
  },
  {
   "cell_type": "markdown",
   "metadata": {},
   "source": [
    "Chi ha già avuto a che fare con modelli di regressione lineare, sa che in questo caso molto semplice è possibile calcolare i parametri ottimi del modello in forma chiusa. Questo, però, non rimane vero per modelli più complessi quali le reti neurali. Essendo le reti neurali il nostro vero obiettivo, introduciamo quindi un metodo più generale."
   ]
  },
  {
   "cell_type": "markdown",
   "metadata": {},
   "source": [
    "Nel caso in cui la funzione obiettivo non sia risolvibile in forma chiusa, è necessario applicare algoritmi numerici (iterativi) a tal fine. Per funzioni differenziabili, il più famoso di essi è la [discesa al gradiente](https://it.wikipedia.org/wiki/Discesa_del_gradiente), che cerca di avvicinarsi sequenzialmente all'ottimo scegliendo in ogni momento una direzione lungo la quale la funzione obiettivo migliora, ovvero decresce. \n",
    "\n",
    "Un risultato essenziale nell'ottimizzazione numerica è che tale direzione si può trovare scegliendo continuamente la direzione opposta alla derivata della funzione costo rispetto alla nostra stima corrente:\n",
    "\n",
    "$$\n",
    "w \\leftarrow w - \\alpha \\frac{dJ}{dw}\n",
    "$$\n",
    "\n",
    "$$\n",
    "b \\leftarrow b - \\alpha \\frac{dJ}{db}\n",
    "$$\n",
    "\n",
    "Il parametro $\\alpha$, detto *learning rate* o *step size*, definisce quanto 'muoversi' ad ogni iterazione: un $\\alpha$ troppo alto porta ad instabilità, mentre un $\\alpha$ troppo basso porta ad un processo di ottimizzazione molto lento. Nel caso in cui $w$ sia un vettore di parametri, l'equazione di prima rimane valida sostituendo la derivata con il **gradiente**, un vettore che colleziona tutte le derivate parziali rispetto a ciascun parametro.\n",
    "\n",
    "In pratica, è possibile utilizzare un sottoinsieme di dati ad ogni iterazione per ridurre il costo computazionale di calcolare il gradiente. In questo caso, si parla di ottimizzazione **stocastica**. E' anche possibile velocizzare questo algoritmo di base in diversi modi: vedremo esempi di entrambe queste idee successivamente."
   ]
  },
  {
   "cell_type": "markdown",
   "metadata": {},
   "source": [
    "## Ottimizzazione in TensorFlow"
   ]
  },
  {
   "cell_type": "markdown",
   "metadata": {},
   "source": [
    "Uno degli aspetti essenziali di TF è la possibilità di calcolare in maniera **automatica** il gradiente di ciascun nodo del grafo computazionale, relativamente a qualsiasi altro nodo. Oltre a questo, TF mette a disposizione nel modulo <code>train</code> alcuni algoritmi di ottimizzazione già implementati per ottimizzare le funzioni costo.\n",
    "\n",
    "Ad esempio, inizializziamo una semplice discesa al gradiente come quella vista prima, con un $\\alpha$ pari a $0.01$:"
   ]
  },
  {
   "cell_type": "code",
   "execution_count": 16,
   "metadata": {
    "collapsed": true
   },
   "outputs": [],
   "source": [
    "optimizer = tf.train.GradientDescentOptimizer(0.01)\n",
    "train = optimizer.minimize(J)"
   ]
  },
  {
   "cell_type": "markdown",
   "metadata": {},
   "source": [
    "Nel caso in cui il grafo computazionale contenga variabili, è necessario inizializzarle in maniera esplicita prima di eseguire il grafo. TF mette a disposizione una funzione di default per inizializzare *tutte* le variabili del grafo:"
   ]
  },
  {
   "cell_type": "code",
   "execution_count": 17,
   "metadata": {
    "collapsed": false
   },
   "outputs": [],
   "source": [
    "sess = tf.Session()\n",
    "init = tf.global_variables_initializer()\n",
    "sess.run(init)"
   ]
  },
  {
   "cell_type": "markdown",
   "metadata": {},
   "source": [
    "I valori dell'inizializzazione sono stati forniti al momento della definizione delle variabili. A questo punto, eseguiamo il processo di ottimizzazione per 1000 iterazioni:"
   ]
  },
  {
   "cell_type": "code",
   "execution_count": 18,
   "metadata": {
    "collapsed": false
   },
   "outputs": [],
   "source": [
    "for i in range(1000):\n",
    "  sess.run(train, feed_dict={X_tf: X, y_tf: y})"
   ]
  },
  {
   "cell_type": "markdown",
   "metadata": {},
   "source": [
    "Ispezionando i valori delle variabili, troveremo quindi il loro nuovo valore, che si avvicina a quello desiderato:"
   ]
  },
  {
   "cell_type": "code",
   "execution_count": 19,
   "metadata": {
    "collapsed": false
   },
   "outputs": [
    {
     "name": "stdout",
     "output_type": "stream",
     "text": [
      "w:  [ 0.10349116] b:  [-0.30584168]\n"
     ]
    }
   ],
   "source": [
    "print('w: ', w.eval(session=sess), 'b: ', b.eval(session=sess))"
   ]
  },
  {
   "cell_type": "markdown",
   "metadata": {},
   "source": [
    "<code>eval</code> è una funzione di comodo per valutare tensori il cui valore non dipende da nessun placeholder. Possiamo anche stampare l'errore quadratico medio compiuto dal modello:"
   ]
  },
  {
   "cell_type": "code",
   "execution_count": 20,
   "metadata": {
    "collapsed": false
   },
   "outputs": [
    {
     "name": "stdout",
     "output_type": "stream",
     "text": [
      "J:  0.0123252\n"
     ]
    }
   ],
   "source": [
    "print('J: ', sess.run(J, feed_dict={X_tf: X, y_tf: y}))"
   ]
  },
  {
   "cell_type": "markdown",
   "metadata": {},
   "source": [
    "Continuando il processo di ottimizzazione con uno step size più piccolo, potremmo arrivare ad un errore medio arbitrariamente vicino a 0. Mentre in questo caso non sarebbe un problema, in generale questo non è desiderabile a causa dell'**overfitting**, la tendenza di modelli molto complessi (come le reti neurali) ad adattarsi in maniera eccessiva ai dati di training, peggiorando la loro accuratezza su dati futuri. Torneremo su questo punto in seguito."
   ]
  },
  {
   "cell_type": "markdown",
   "metadata": {},
   "source": [
    "Per oralcoliamo i valori predetti dal nostro modello sui punti di training:"
   ]
  },
  {
   "cell_type": "code",
   "execution_count": 21,
   "metadata": {
    "collapsed": false
   },
   "outputs": [],
   "source": [
    "y_pred = sess.run(f, feed_dict={X_tf: X})"
   ]
  },
  {
   "cell_type": "markdown",
   "metadata": {},
   "source": [
    "Concludiamo visualizzando la funzione ottenuta:"
   ]
  },
  {
   "cell_type": "code",
   "execution_count": 22,
   "metadata": {
    "collapsed": false
   },
   "outputs": [
    {
     "data": {
      "image/png": "[encoded data removed]",
      "text/plain": [
       "<matplotlib.figure.Figure at 0xa8eb518>"
      ]
     },
     "metadata": {},
     "output_type": "display_data"
    }
   ],
   "source": [
    "%matplotlib inline\n",
    "import matplotlib.pyplot as plt\n",
    "plt.figure()\n",
    "plt.plot(X, 0.1*X - 0.3, 'b--', label='Real')\n",
    "plt.plot(X, y_pred, 'red', label='Predicted')\n",
    "plt.grid()\n",
    "plt.show()"
   ]
  },
  {
   "cell_type": "markdown",
   "metadata": {},
   "source": [
    "Siamo pronti a muoverci verso le reti neurali!"
   ]
  }
 ],
 "metadata": {
  "kernelspec": {
   "display_name": "Python 3",
   "language": "python",
   "name": "python3"
  },
  "language_info": {
   "codemirror_mode": {
    "name": "ipython",
    "version": 3
   },
   "file_extension": ".py",
   "mimetype": "text/x-python",
   "name": "python",
   "nbconvert_exporter": "python",
   "pygments_lexer": "ipython3",
   "version": "3.5.2"
  }
 },
 "nbformat": 4,
 "nbformat_minor": 2
}
